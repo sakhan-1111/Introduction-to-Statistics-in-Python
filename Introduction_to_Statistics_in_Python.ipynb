{
 "cells": [
  {
   "cell_type": "markdown",
   "id": "b5413c71",
   "metadata": {},
   "source": [
    "# 1 Summary Statistics\n",
    "Summary statistics gives you the tools you need to boil down massive datasets to reveal the highlights. In this chapter, you'll explore summary statistics including mean, median, and standard deviation, and learn how to accurately interpret them. You'll also develop your critical thinking skills, allowing you to choose the best summary statistics for your data."
   ]
  },
  {
   "cell_type": "markdown",
   "id": "c612d6ab",
   "metadata": {},
   "source": [
    "## 1.1 What is statistics?"
   ]
  },
  {
   "cell_type": "markdown",
   "id": "7b83db29",
   "metadata": {},
   "source": [
    "## 1.2 Descriptive and inferential statistics\n",
    "Statistics can be used to answer lots of different types of questions, but being able to identify which type of statistics is needed is essential to drawing accurate conclusions. In this exercise, you'll sharpen your skills by identifying which type is needed to answer each question."
   ]
  },
  {
   "cell_type": "markdown",
   "id": "3a34dbfb",
   "metadata": {},
   "source": [
    "### 1.2.1 Instructions\n",
    "- Identify which questions can be answered with descriptive statistics and which questions can be answered with inferential statistics.\n",
    "\n",
    "| Descriptive                                                                                    | Inferential                                                                                           |\n",
    "|:----------------------------------------------------------------------------------------------:|:-----------------------------------------------------------------------------------------------------:|\n",
    "| Given data on every coustomer service request made, whats the average time it took to respont? | Given data on 20 fish caught in a lake, what's the average weight of all fish in the lake?            |\n",
    "| Given data on all 100,000 people who viewed an ad, what percent clicked on it?                 | After interviewing 100 customers, what percent pf all your customers are satisfied with your product? |"
   ]
  },
  {
   "cell_type": "markdown",
   "id": "988f3c57",
   "metadata": {},
   "source": [
    "## 1.3 Data type classification\n",
    "In the video, you learned about two main types of data: numeric and categorical. Numeric variables can be classified as either discrete or continuous, and categorical variables can be classified as either nominal or ordinal. These characteristics of a variable determine which ways of summarizing your data will work best."
   ]
  },
  {
   "cell_type": "markdown",
   "id": "4a28a3e3",
   "metadata": {},
   "source": [
    "### 1.3.1 Instructions\n",
    "- Map each variable to its data type by dragging each item and dropping it into the correct data type.\n",
    "\n",
    "| Continous numeric             | Discrete numeric                 | Categorical        |\n",
    "|:-----------------------------:|:--------------------------------:|:------------------:|\n",
    "| Air temperature               | Number of items in stock         | Zip code           |\n",
    "| Kilowatts of electricity used | Number of clicks on an ad        | Brand of a product |\n",
    "|                               | Number of DataCamp courses taken |                    |\n"
   ]
  },
  {
   "cell_type": "markdown",
   "id": "69123070",
   "metadata": {},
   "source": [
    "## 1.4 Measures of center"
   ]
  },
  {
   "cell_type": "markdown",
   "id": "0c393aa3",
   "metadata": {},
   "source": [
    "## 1.5 Mean and median\n",
    "In this chapter, you'll be working with the [2018 Food Carbon Footprint Index](https://www.nu3.de/blogs/nutrition/food-carbon-footprint-index-2018) from nu3. The `food_consumption` dataset contains information about the kilograms of food consumed per person per year in each country in each food category (`consumption`) as well as information about the carbon footprint of that food category (`co2_emissions`) measured in kilograms of carbon dioxide, or CO2, per person per year in each country.\n",
    "\n",
    "In this exercise, you'll compute measures of center to compare food consumption in the US and Belgium using your `pandas` and `numpy` skills.\n",
    "\n",
    "`pandas` is imported as `pd` for you and `food_consumption` is pre-loaded."
   ]
  },
  {
   "cell_type": "code",
   "execution_count": 1,
   "id": "3c1c01a5",
   "metadata": {},
   "outputs": [],
   "source": [
    "import pandas as pd\n",
    "\n",
    "food_consumption = pd.read_csv('datasets/food_consumption.csv')"
   ]
  },
  {
   "cell_type": "markdown",
   "id": "c6dbfa51",
   "metadata": {},
   "source": [
    "### 1.5.1 Instructions 1/2\n",
    "- Import `numpy` with the alias `np`.\n",
    "- Create two DataFrames: one that holds the rows of `food_consumption` for `'Belgium'` and another that holds rows for `'USA'`. Call these `be_consumption` and `usa_consumption`.\n",
    "- Calculate the mean and median of kilograms of food consumed per person per year for both countries."
   ]
  },
  {
   "cell_type": "code",
   "execution_count": 2,
   "id": "b3775e43",
   "metadata": {},
   "outputs": [
    {
     "name": "stdout",
     "output_type": "stream",
     "text": [
      "42.132727272727266\n",
      "12.59\n",
      "44.650000000000006\n",
      "14.58\n"
     ]
    }
   ],
   "source": [
    "# Import numpy with alias np\n",
    "import numpy as np\n",
    "\n",
    "# Filter for Belgium\n",
    "be_consumption = food_consumption[food_consumption['country'] == 'Belgium']\n",
    "\n",
    "# Filter for USA\n",
    "usa_consumption = food_consumption[food_consumption['country'] == 'USA']\n",
    "\n",
    "# Calculate mean and median consumption in Belgium\n",
    "print(np.mean(be_consumption['consumption']))\n",
    "print(np.median(be_consumption['consumption']))\n",
    "\n",
    "# Calculate mean and median consumption in USA\n",
    "print(np.mean(usa_consumption['consumption']))\n",
    "print(np.median(usa_consumption['consumption']))"
   ]
  },
  {
   "cell_type": "markdown",
   "id": "5c2fac2c",
   "metadata": {},
   "source": [
    "### 1.5.2 Instructions 2/2\n",
    "\n",
    "- Subset `food_consumption` for rows with data about Belgium and the USA.\n",
    "- Group the subsetted data by `country` and select only the `consumption` column.\n",
    "- Calculate the mean and median of the kilograms of food consumed per person per year in each country using `.agg()`."
   ]
  },
  {
   "cell_type": "code",
   "execution_count": 3,
   "id": "29f10b86",
   "metadata": {},
   "outputs": [
    {
     "name": "stdout",
     "output_type": "stream",
     "text": [
      "              mean  median\n",
      "country                   \n",
      "Belgium  42.132727   12.59\n",
      "USA      44.650000   14.58\n"
     ]
    }
   ],
   "source": [
    "# Import numpy as np\n",
    "# import numpy as np\n",
    "\n",
    "# Subset for Belgium and USA only\n",
    "be_and_usa = food_consumption[(food_consumption['country'] == 'Belgium') | (food_consumption['country'] == 'USA')]\n",
    "\n",
    "# Group by country, select consumption column, and compute mean and median\n",
    "print(be_and_usa.groupby('country')['consumption'].agg([np.mean, np.median]))"
   ]
  },
  {
   "cell_type": "markdown",
   "id": "8ed40958",
   "metadata": {},
   "source": [
    "## 1.6 Mean vs. median\n",
    "\n",
    "In the video, you learned that the mean is the sum of all the data points divided by the total number of data points, and the median is the middle value of the dataset where 50% of the data is less than the median, and 50% of the data is greater than the median. In this exercise, you'll compare these two measures of center.\n",
    "\n",
    "`pandas` is loaded as `pd`, `numpy` is loaded as `np`, and `food_consumption` is available."
   ]
  },
  {
   "cell_type": "markdown",
   "id": "e9e47661",
   "metadata": {},
   "source": [
    "### 1.6.1 Instructions 1/4\n",
    "\n",
    "- Import `matplotlib.pyplot` with the alias `plt`.\n",
    "- Subset `food_consumption` to get the rows where `food_category` is `'rice'`.\n",
    "- Create a histogram of `co2_emission` for rice and show the plot."
   ]
  },
  {
   "cell_type": "code",
   "execution_count": 4,
   "id": "416fe2da",
   "metadata": {},
   "outputs": [
    {
     "data": {
      "image/png": "[encoded data removed]",
      "text/plain": [
       "<Figure size 640x480 with 1 Axes>"
      ]
     },
     "metadata": {},
     "output_type": "display_data"
    }
   ],
   "source": [
    "# Import matplotlib.pyplot with alias plt\n",
    "import matplotlib.pyplot as plt\n",
    "\n",
    "# Subset for food_category equals rice\n",
    "rice_consumption = food_consumption[food_consumption['food_category'] == 'rice']\n",
    "\n",
    "# Histogram of co2_emission for rice and show plot\n",
    "plt.hist(rice_consumption['co2_emission'])\n",
    "plt.show()"
   ]
  },
  {
   "cell_type": "markdown",
   "id": "21c1580f",
   "metadata": {},
   "source": [
    "### 1.6.2 Instructions 2/4\n",
    "### Question\n",
    "Take a look at the histogram you just created of different countries' CO2 emissions for rice. Which of the following terms best describes the shape of the data?\n",
    "### Possible Answers\n",
    "\n",
    "- [ ] No skew\n",
    "\n",
    "- [ ] Left-skewed\n",
    "\n",
    "- [x] Right-skewed\n"
   ]
  },
  {
   "cell_type": "markdown",
   "id": "43e11dc9",
   "metadata": {},
   "source": [
    "### 1.6.3 Instructions 3/4\n",
    "\n",
    "- Use `.agg()` to calculate the mean and median of `co2_emission` for rice."
   ]
  },
  {
   "cell_type": "code",
   "execution_count": 5,
   "id": "3bd31cc7",
   "metadata": {},
   "outputs": [
    {
     "name": "stdout",
     "output_type": "stream",
     "text": [
      "mean      37.591615\n",
      "median    15.200000\n",
      "Name: co2_emission, dtype: float64\n"
     ]
    }
   ],
   "source": [
    "# Subset for food_category equals rice\n",
    "rice_consumption = food_consumption[food_consumption['food_category'] == 'rice']\n",
    "\n",
    "# Calculate mean and median of co2_emission with .agg()\n",
    "print(rice_consumption['co2_emission'].agg([np.mean, np.median]))"
   ]
  },
  {
   "cell_type": "markdown",
   "id": "20935779",
   "metadata": {},
   "source": [
    "### 1.6.4 Instructions 4/4\n",
    "\n",
    "### Question\n",
    "\n",
    "Given the skew of this data, what measure of central tendency best summarizes the kilograms of CO2 emissions per person per year for rice?\n",
    "\n",
    "### Possible Answers\n",
    "\n",
    "- [ ] Mean\n",
    "\n",
    "- [x] Median\n",
    "\n",
    "- [ ] Both mean and median"
   ]
  },
  {
   "cell_type": "markdown",
   "id": "4a3b8fcd",
   "metadata": {},
   "source": [
    "## 1.7 Measures of spread"
   ]
  },
  {
   "cell_type": "markdown",
   "id": "d5969044",
   "metadata": {},
   "source": [
    "## 1.8 Quartiles, quantiles, and quintiles\n",
    "\n",
    "Quantiles are a great way of summarizing numerical data since they can be used to measure center and spread, as well as to get a sense of where a data point stands in relation to the rest of the data set. For example, you might want to give a discount to the 10% most active users on a website.\n",
    "\n",
    "In this exercise, you'll calculate quartiles, quintiles, and deciles, which split up a dataset into 4, 5, and 10 pieces, respectively.\n",
    "\n",
    "Both `pandas` as `pd` and `numpy` as `np` are loaded and `food_consumption` is available."
   ]
  },
  {
   "cell_type": "markdown",
   "id": "b36146bf",
   "metadata": {},
   "source": [
    "### 1.8.1 Instructions 1/3\n",
    "\n",
    "- Calculate the quartiles of the `co2_emission` column of `food_consumption`."
   ]
  },
  {
   "cell_type": "code",
   "execution_count": 6,
   "id": "d6c74434",
   "metadata": {},
   "outputs": [
    {
     "name": "stdout",
     "output_type": "stream",
     "text": [
      "[   0.        5.21     16.53     62.5975 1712.    ]\n"
     ]
    }
   ],
   "source": [
    "# Calculate the quartiles of co2_emission\n",
    "print(np.quantile(food_consumption['co2_emission'], np.linspace(0, 1, 5)))"
   ]
  },
  {
   "cell_type": "markdown",
   "id": "9c4065f9",
   "metadata": {},
   "source": [
    "### 1.8.2 Instructions 2/3\n",
    "\n",
    "- Calculate the six quantiles that split up the data into 5 pieces (quintiles) of the `co2_emission` column of `food_consumption`."
   ]
  },
  {
   "cell_type": "code",
   "execution_count": 7,
   "id": "14066e2e",
   "metadata": {},
   "outputs": [
    {
     "name": "stdout",
     "output_type": "stream",
     "text": [
      "[   0.       3.54    11.026   25.59    99.978 1712.   ]\n"
     ]
    }
   ],
   "source": [
    "# Calculate the quintiles of co2_emission\n",
    "print(np.quantile(food_consumption['co2_emission'], np.linspace(0, 1, 6)))"
   ]
  },
  {
   "cell_type": "markdown",
   "id": "be157740",
   "metadata": {},
   "source": [
    "### 1.8.3 Instructions 3/3\n",
    "\n",
    "- Calculate the eleven quantiles of `co2_emission` that split up the data into ten pieces (deciles)."
   ]
  },
  {
   "cell_type": "code",
   "execution_count": 8,
   "id": "95489b77",
   "metadata": {},
   "outputs": [
    {
     "name": "stdout",
     "output_type": "stream",
     "text": [
      "[0.00000e+00 6.68000e-01 3.54000e+00 7.04000e+00 1.10260e+01 1.65300e+01\n",
      " 2.55900e+01 4.42710e+01 9.99780e+01 2.03629e+02 1.71200e+03]\n"
     ]
    }
   ],
   "source": [
    "# Calculate the deciles of co2_emission\n",
    "print(np.quantile(food_consumption['co2_emission'], np.linspace(0, 1, 11)))"
   ]
  },
  {
   "cell_type": "markdown",
   "id": "272568f4",
   "metadata": {},
   "source": [
    "## 1.9 Variance and standard deviation\n",
    "\n",
    "Variance and standard deviation are two of the most common ways to measure the spread of a variable, and you'll practice calculating these in this exercise. Spread is important since it can help inform expectations. For example, if a salesperson sells a mean of 20 products a day, but has a standard deviation of 10 products, there will probably be days where they sell 40 products, but also days where they only sell one or two. Information like this is important, especially when making predictions.\n",
    "\n",
    "Both `pandas` as `pd` and `numpy` as `np` are loaded, and `food_consumption` is available."
   ]
  },
  {
   "cell_type": "markdown",
   "id": "6bcac14c",
   "metadata": {},
   "source": [
    "### 1.9.1 Instructions\n",
    "\n",
    "- Calculate the variance and standard deviation of `co2_emission` for each `food_category` by grouping and aggregating.\n",
    "- Import `matplotlib.pyplot` with alias `plt`.\n",
    "- Create a histogram of `co2_emission` for the `beef` `food_category` and show the plot.\n",
    "- Create a histogram of `co2_emission` for the `eggs` `food_category` and show the plot."
   ]
  },
  {
   "cell_type": "code",
   "execution_count": 9,
   "id": "3df03a30",
   "metadata": {},
   "outputs": [
    {
     "name": "stdout",
     "output_type": "stream",
     "text": [
      "                        var         std\n",
      "food_category                          \n",
      "beef           88748.408132  297.906710\n",
      "dairy          17671.891985  132.935669\n",
      "eggs              21.371819    4.622966\n",
      "fish             921.637349   30.358481\n",
      "lamb_goat      16475.518363  128.356996\n",
      "nuts              35.639652    5.969895\n",
      "pork            3094.963537   55.632396\n",
      "poultry          245.026801   15.653332\n",
      "rice            2281.376243   47.763754\n",
      "soybeans           0.879882    0.938020\n",
      "wheat             71.023937    8.427570\n"
     ]
    },
    {
     "data": {
      "image/png": "[encoded data removed]",
      "text/plain": [
       "<Figure size 640x480 with 1 Axes>"
      ]
     },
     "metadata": {},
     "output_type": "display_data"
    },
    {
     "data": {
      "image/png": "[encoded data removed]",
      "text/plain": [
       "<Figure size 640x480 with 1 Axes>"
      ]
     },
     "metadata": {},
     "output_type": "display_data"
    }
   ],
   "source": [
    "# Print variance and sd of co2_emission for each food_category\n",
    "print(food_consumption.groupby('food_category')['co2_emission'].agg([np.var, np.std]))\n",
    "\n",
    "# Import matplotlib.pyplot with alias plt\n",
    "import matplotlib.pyplot as plt\n",
    "\n",
    "# Create histogram of co2_emission for food_category 'beef'\n",
    "plt.hist(food_consumption[food_consumption['food_category'] == 'beef'].iloc[:, 4])\n",
    "# Show plot\n",
    "plt.show()\n",
    "\n",
    "# Create histogram of co2_emission for food_category 'eggs'\n",
    "plt.hist(food_consumption[food_consumption['food_category'] == 'eggs'].iloc[:, 4])\n",
    "# Show plot\n",
    "plt.show()"
   ]
  },
  {
   "attachments": {
    "1.PNG": {
     "image/png": "[encoded data removed]"
    }
   },
   "cell_type": "markdown",
   "id": "53895b6c",
   "metadata": {},
   "source": [
    "## 1.10 Finding outliers using IQR\n",
    "\n",
    "Outliers can have big effects on statistics like mean, as well as statistics that rely on the mean, such as variance and standard deviation. Interquartile range, or IQR, is another way of measuring spread that's less influenced by outliers. IQR is also often used to find outliers. If a value is less than \n",
    "\n",
    "<math xmlns=\"http://www.w3.org/1998/Math/MathML\">\n",
    "  <mtext>Q1</mtext>\n",
    "  <mo>&#x2212;</mo>\n",
    "  <mn>1.5</mn>\n",
    "  <mo>&#xD7;</mo>\n",
    "  <mtext>IQR</mtext>\n",
    "</math> or greater than\n",
    "\n",
    "<math xmlns=\"http://www.w3.org/1998/Math/MathML\">\n",
    "  <mtext>Q3</mtext>\n",
    "  <mo>+</mo>\n",
    "  <mn>1.5</mn>\n",
    "  <mo>&#xD7;</mo>\n",
    "  <mtext>IQR</mtext>\n",
    "</math>\n",
    "\n",
    "it's considered an outlier. In fact, this is how the lengths of the whiskers in a `matplotlib` box plot are calculated.\n",
    "![1.PNG](attachment:1.PNG)\n",
    "\n",
    "In this exercise, you'll calculate IQR and use it to find some outliers. `pandas` as `pd` and `numpy` as `np` are loaded and `food_consumption` is available."
   ]
  },
  {
   "cell_type": "markdown",
   "id": "a9f8836d",
   "metadata": {},
   "source": [
    "### 1.10.1 Instructions 1/4\n",
    "\n",
    "- Calculate the total `co2_emission` per country by grouping by country and taking the sum of `co2_emission`. Store the resulting DataFrame as `emissions_by_country`."
   ]
  },
  {
   "cell_type": "code",
   "execution_count": 10,
   "id": "75218225",
   "metadata": {},
   "outputs": [
    {
     "name": "stdout",
     "output_type": "stream",
     "text": [
      "country\n",
      "Albania      1777.85\n",
      "Algeria       707.88\n",
      "Angola        412.99\n",
      "Argentina    2172.40\n",
      "Armenia      1109.93\n",
      "              ...   \n",
      "Uruguay      1634.91\n",
      "Venezuela    1104.10\n",
      "Vietnam       641.51\n",
      "Zambia        225.30\n",
      "Zimbabwe      350.33\n",
      "Name: co2_emission, Length: 130, dtype: float64\n"
     ]
    }
   ],
   "source": [
    "# Calculate total co2_emission per country: emissions_by_country\n",
    "emissions_by_country = food_consumption.groupby('country')['co2_emission'].sum()\n",
    "\n",
    "print(emissions_by_country)"
   ]
  },
  {
   "cell_type": "markdown",
   "id": "96ae6ea5",
   "metadata": {},
   "source": [
    "### 1.10.2 Instructions 2/4\n",
    "\n",
    "- Compute the first and third quartiles of `emissions_by_country` and store these as `q1` and `q3`.\n",
    "- Calculate the interquartile range of `emissions_by_country` and store it as `iqr`."
   ]
  },
  {
   "cell_type": "code",
   "execution_count": 11,
   "id": "e419002e",
   "metadata": {},
   "outputs": [],
   "source": [
    "# Calculate total co2_emission per country: emissions_by_country\n",
    "emissions_by_country = food_consumption.groupby('country')['co2_emission'].sum()\n",
    "\n",
    "# Compute the first and third quartiles and IQR of emissions_by_country\n",
    "q1 = np.quantile(emissions_by_country, 0.25)\n",
    "q3 = np.quantile(emissions_by_country, 0.75)\n",
    "iqr = q3 -q1"
   ]
  },
  {
   "cell_type": "markdown",
   "id": "37b3df62",
   "metadata": {},
   "source": [
    "### 1.10.3 Instructions 3/4\n",
    "\n",
    "- Calculate the lower and upper cutoffs for outliers of `emissions_by_country`, and store these as `lower` and `upper`."
   ]
  },
  {
   "cell_type": "code",
   "execution_count": 12,
   "id": "f0d34970",
   "metadata": {},
   "outputs": [],
   "source": [
    "# Calculate total co2_emission per country: emissions_by_country\n",
    "emissions_by_country = food_consumption.groupby('country')['co2_emission'].sum()\n",
    "\n",
    "# Compute the first and third quantiles and IQR of emissions_by_country\n",
    "q1 = np.quantile(emissions_by_country, 0.25)\n",
    "q3 = np.quantile(emissions_by_country, 0.75)\n",
    "iqr = q3 - q1\n",
    "\n",
    "# Calculate the lower and upper cutoffs for outliers\n",
    "lower = q1 - (1.5 * iqr)\n",
    "upper = q3 + (1.5 * iqr)"
   ]
  },
  {
   "cell_type": "markdown",
   "id": "0115c490",
   "metadata": {},
   "source": [
    "### 1.10.4 Instructions 4/4\n",
    "\n",
    "- Subset `emissions_by_country` to get countries with a total emission greater than the `upper` cutoff **or** a total emission less than the `lower` cutoff."
   ]
  },
  {
   "cell_type": "code",
   "execution_count": 13,
   "id": "c578f9a9",
   "metadata": {},
   "outputs": [
    {
     "name": "stdout",
     "output_type": "stream",
     "text": [
      "country\n",
      "Argentina    2172.4\n",
      "Name: co2_emission, dtype: float64\n"
     ]
    }
   ],
   "source": [
    "# Calculate total co2_emission per country: emissions_by_country\n",
    "emissions_by_country = food_consumption.groupby('country')['co2_emission'].sum()\n",
    "\n",
    "# Compute the first and third quantiles and IQR of emissions_by_country\n",
    "q1 = np.quantile(emissions_by_country, 0.25)\n",
    "q3 = np.quantile(emissions_by_country, 0.75)\n",
    "iqr = q3 - q1\n",
    "\n",
    "# Calculate the lower and upper cutoffs for outliers\n",
    "lower = q1 - 1.5 * iqr\n",
    "upper = q3 + 1.5 * iqr\n",
    "\n",
    "# Subset emissions_by_country to find outliers\n",
    "outliers = emissions_by_country[(emissions_by_country<lower) | (emissions_by_country>upper)]\n",
    "print(outliers)"
   ]
  },
  {
   "cell_type": "markdown",
   "id": "c6f6d760",
   "metadata": {},
   "source": [
    "# 2 Random Numbers and Probability\n",
    "\n",
    "In this chapter, you'll learn how to generate random samples and measure chance using probability. You'll work with real-world sales data to calculate the probability of a salesperson being successful. Finally, you’ll use the binomial distribution to model events with binary outcomes."
   ]
  },
  {
   "cell_type": "markdown",
   "id": "a919dc3c",
   "metadata": {},
   "source": [
    "## 2.1 What are the chances?"
   ]
  },
  {
   "cell_type": "markdown",
   "id": "1d9962b2",
   "metadata": {},
   "source": [
    "## 2.2 With or without replacement?\n",
    "\n",
    "In the video, you learned about two different ways of taking samples: with replacement and without replacement. Although it isn't always easy to tell which best fits various situations, it's important to correctly identify this so that any probabilities you report are accurate. In this exercise, you'll put your new knowledge to the test and practice figuring this out."
   ]
  },
  {
   "cell_type": "markdown",
   "id": "aeef3d22",
   "metadata": {},
   "source": [
    "### 2.2.1 Instructions\n",
    "\n",
    "- For each scenario, decide whether it's sampling with replacement or sampling without replacement.\n",
    "\n",
    "| With replacement        | Without replacement                                                            |\n",
    "|:-----------------------:|:------------------------------------------------------------------------------:|\n",
    "| Flipping a coin 3 times | Randomly picking 3 people to work on the weekend from a group of 20 people     |\n",
    "| Rolling a die twice     | Randomly selecting 5 products from assembly line to test for quality assurance |\n",
    "|                         | From a deck of cards, dealing 3 players 7 cards each                           |"
   ]
  },
  {
   "cell_type": "markdown",
   "id": "47b5768c",
   "metadata": {},
   "source": [
    "## 2.3 Calculating probabilities\n",
    "\n",
    "You're in charge of the sales team, and it's time for performance reviews, starting with Amir. As part of the review, you want to randomly select a few of the deals that he's worked on over the past year so that you can look at them more deeply. Before you start selecting deals, you'll first figure out what the chances are of selecting certain deals.\n",
    "\n",
    "Recall that the probability of an event can be calculated by\n",
    "\n",
    "    event = # ways event can happen / total # of possible outcomes\n",
    "\n",
    "Both `pandas` as `pd` and `numpy` as `np` are loaded and `amir_deals` is available."
   ]
  },
  {
   "cell_type": "code",
   "execution_count": 14,
   "id": "70970db3",
   "metadata": {},
   "outputs": [],
   "source": [
    "amir_deals = pd.read_csv('datasets/amir_deals.csv')"
   ]
  },
  {
   "cell_type": "markdown",
   "id": "8637e633",
   "metadata": {},
   "source": [
    "### 2.3.1 Instructions 1/3\n",
    "\n",
    "- Count the number of deals Amir worked on for each `product` type and store in `counts`."
   ]
  },
  {
   "cell_type": "code",
   "execution_count": 15,
   "id": "5212f0d1",
   "metadata": {},
   "outputs": [
    {
     "name": "stdout",
     "output_type": "stream",
     "text": [
      "Product B    62\n",
      "Product D    40\n",
      "Product A    23\n",
      "Product C    15\n",
      "Product F    11\n",
      "Product H     8\n",
      "Product I     7\n",
      "Product E     5\n",
      "Product N     3\n",
      "Product G     2\n",
      "Product J     2\n",
      "Name: product, dtype: int64\n"
     ]
    }
   ],
   "source": [
    "# Count the deals for each product\n",
    "counts = amir_deals['product'].value_counts()\n",
    "print(counts)"
   ]
  },
  {
   "cell_type": "markdown",
   "id": "37f46674",
   "metadata": {},
   "source": [
    "### 2.3.2 Instructions 2/3\n",
    "\n",
    "- Calculate the probability of selecting a deal for the different product types by dividing the counts by the total number of deals Amir worked on. Save this as `probs`."
   ]
  },
  {
   "cell_type": "code",
   "execution_count": 16,
   "id": "91022f2f",
   "metadata": {},
   "outputs": [
    {
     "name": "stdout",
     "output_type": "stream",
     "text": [
      "Product B    0.348315\n",
      "Product D    0.224719\n",
      "Product A    0.129213\n",
      "Product C    0.084270\n",
      "Product F    0.061798\n",
      "Product H    0.044944\n",
      "Product I    0.039326\n",
      "Product E    0.028090\n",
      "Product N    0.016854\n",
      "Product G    0.011236\n",
      "Product J    0.011236\n",
      "Name: product, dtype: float64\n"
     ]
    }
   ],
   "source": [
    "# Count the deals for each product\n",
    "counts = amir_deals['product'].value_counts()\n",
    "\n",
    "# Calculate probability of picking a deal with each product\n",
    "probs = counts/len(amir_deals)\n",
    "print(probs)"
   ]
  },
  {
   "cell_type": "markdown",
   "id": "a371c544",
   "metadata": {},
   "source": [
    "### 2.3.3 Instructions 3/3\n",
    "### Question\n",
    "If you randomly select one of Amir's deals, what's the probability that the deal will involve `Product C`?\n",
    "\n",
    "- [ ] 15%\n",
    "\n",
    "- [ ] 80.43%\n",
    "\n",
    "- [x] 8.43%\n",
    "\n",
    "- [ ] 22.5%\n",
    "\n",
    "- [ ] 124.5%"
   ]
  },
  {
   "cell_type": "markdown",
   "id": "e685beba",
   "metadata": {},
   "source": [
    "## 2.4 Sampling deals\n",
    "\n",
    "In the previous exercise, you counted the deals Amir worked on. Now it's time to randomly pick five deals so that you can reach out to each customer and ask if they were satisfied with the service they received. You'll try doing this both with and without replacement.\n",
    "\n",
    "Additionally, you want to make sure this is done randomly and that it can be reproduced in case you get asked how you chose the deals, so you'll need to set the random seed before sampling from the deals.\n",
    "\n",
    "Both `pandas` as `pd` and `numpy` as `np` are loaded and `amir_deals` is available."
   ]
  },
  {
   "cell_type": "markdown",
   "id": "1d077b28",
   "metadata": {},
   "source": [
    "### 2.4.1 Instructions 1/3\n",
    "\n",
    "- Set the random seed to `24`.\n",
    "- Take a sample of `5` deals **without** replacement and store them as `sample_without_replacement`."
   ]
  },
  {
   "cell_type": "code",
   "execution_count": 17,
   "id": "fd715b8d",
   "metadata": {},
   "outputs": [
    {
     "name": "stdout",
     "output_type": "stream",
     "text": [
      "     Unnamed: 0    product   client status   amount  num_users\n",
      "127         128  Product B  Current    Won  2070.25          7\n",
      "148         149  Product D  Current    Won  3485.48         52\n",
      "77           78  Product B  Current    Won  6252.30         27\n",
      "104         105  Product D  Current    Won  4110.98         39\n",
      "166         167  Product C      New   Lost  3779.86         11\n"
     ]
    }
   ],
   "source": [
    "# Set random seed\n",
    "np.random.seed(24)\n",
    "\n",
    "# Sample 5 deals without replacement\n",
    "sample_without_replacement = amir_deals.sample(5)\n",
    "print(sample_without_replacement)"
   ]
  },
  {
   "cell_type": "markdown",
   "id": "51cd44fa",
   "metadata": {},
   "source": [
    "### 2.4.2 Instructions 2/3\n",
    "\n",
    "- Take a sample of 5 deals **with** replacement and save as `sample_with_replacement`."
   ]
  },
  {
   "cell_type": "code",
   "execution_count": 18,
   "id": "9f449632",
   "metadata": {},
   "outputs": [
    {
     "name": "stdout",
     "output_type": "stream",
     "text": [
      "     Unnamed: 0    product   client status   amount  num_users\n",
      "162         163  Product D  Current    Won  6755.66         59\n",
      "131         132  Product B  Current    Won  6872.29         25\n",
      "87           88  Product C  Current    Won  3579.63          3\n",
      "145         146  Product A  Current    Won  4682.94         63\n",
      "145         146  Product A  Current    Won  4682.94         63\n"
     ]
    }
   ],
   "source": [
    "# Set random seed\n",
    "np.random.seed(24)\n",
    "\n",
    "# Sample 5 deals with replacement\n",
    "sample_with_replacement = amir_deals.sample(5, replace = True)\n",
    "print(sample_with_replacement)"
   ]
  },
  {
   "cell_type": "markdown",
   "id": "ecf3934b",
   "metadata": {},
   "source": [
    "### 2.4.3 Instructions 3/3\n",
    "### Question\n",
    "What type of sampling is better to use for this situation?\n",
    "\n",
    "### Possible Answers\n",
    "\n",
    "- [ ] With replacement\n",
    "\n",
    "- [x] Without replacement\n",
    "\n",
    "- [ ] It doesn't matter"
   ]
  },
  {
   "cell_type": "markdown",
   "id": "e6d34659",
   "metadata": {},
   "source": [
    "## 2.5 Discrete distributions"
   ]
  },
  {
   "cell_type": "markdown",
   "id": "b1f97d1d",
   "metadata": {},
   "source": [
    "## 2.6 Creating a probability distribution\n",
    "\n",
    "A new restaurant opened a few months ago, and the restaurant's management wants to optimize its seating space based on the size of the groups that come most often. On one night, there are 10 groups of people waiting to be seated at the restaurant, but instead of being called in the order they arrived, they will be called randomly. In this exercise, you'll investigate the probability of groups of different sizes getting picked first. Data on each of the ten groups is contained in the `restaurant_groups` DataFrame.\n",
    "\n",
    "Remember that expected value can be calculated by multiplying each possible outcome with its corresponding probability and taking the sum. The `restaurant_groups` data is available. `pandas` is loaded as `pd`, `numpy` is loaded as `np`, and `matplotlib.pyplot` is loaded as `plt`."
   ]
  },
  {
   "cell_type": "code",
   "execution_count": 19,
   "id": "6bc8b690",
   "metadata": {},
   "outputs": [],
   "source": [
    "restaurant_groups = pd.read_csv('datasets/restaurant_groups.csv')"
   ]
  },
  {
   "cell_type": "markdown",
   "id": "e6fc8570",
   "metadata": {},
   "source": [
    "### 2.6.1 Instructions 1/4\n",
    "\n",
    "- Create a histogram of the `group_size` column of `restaurant_groups`, setting `bins` to `[2, 3, 4, 5, 6]`. Remember to show the plot."
   ]
  },
  {
   "cell_type": "code",
   "execution_count": 20,
   "id": "1a0c5779",
   "metadata": {},
   "outputs": [
    {
     "data": {
      "image/png": "[encoded data removed]",
      "text/plain": [
       "<Figure size 640x480 with 1 Axes>"
      ]
     },
     "metadata": {},
     "output_type": "display_data"
    }
   ],
   "source": [
    "# Create a histogram of restaurant_groups and show plot\n",
    "restaurant_groups['group_size'].hist(bins = [2, 3, 4, 5, 6])\n",
    "plt.show()"
   ]
  },
  {
   "cell_type": "markdown",
   "id": "b2253345",
   "metadata": {},
   "source": [
    "### 2.6.2 Instructions 2/4\n",
    "\n",
    "- Count the number of each `group_size` in `restaurant_groups`, then divide by the number of rows in `restaurant_groups` to calculate the probability of randomly selecting a group of each size. Save as `size_dist`.\n",
    "- Reset the index of `size_dist`.\n",
    "- Rename the columns of `size_dist` to `group_size` and `prob`."
   ]
  },
  {
   "cell_type": "code",
   "execution_count": 21,
   "id": "36de70e3",
   "metadata": {},
   "outputs": [
    {
     "name": "stdout",
     "output_type": "stream",
     "text": [
      "   group_size  prob\n",
      "0           2   0.6\n",
      "1           4   0.2\n",
      "2           6   0.1\n",
      "3           3   0.1\n"
     ]
    }
   ],
   "source": [
    "# Create probability distribution\n",
    "size_dist = restaurant_groups['group_size'].value_counts() / len(restaurant_groups)\n",
    "\n",
    "# Reset index and rename columns\n",
    "size_dist = size_dist.reset_index()\n",
    "size_dist.columns = ['group_size', 'prob']\n",
    "\n",
    "print(size_dist)"
   ]
  },
  {
   "cell_type": "markdown",
   "id": "39cbe5bb",
   "metadata": {},
   "source": [
    "### 2.6.3 Instructions 3/4\n",
    "\n",
    "- Calculate the expected value of the `size_distribution`, which represents the expected group size, by multiplying the `group_size` by the `prob` and taking the sum."
   ]
  },
  {
   "cell_type": "code",
   "execution_count": 22,
   "id": "b0cdeda2",
   "metadata": {},
   "outputs": [
    {
     "name": "stdout",
     "output_type": "stream",
     "text": [
      "2.9000000000000004\n"
     ]
    }
   ],
   "source": [
    "# Create probability distribution\n",
    "size_dist = restaurant_groups['group_size'].value_counts() / restaurant_groups.shape[0]\n",
    "# Reset index and rename columns\n",
    "size_dist = size_dist.reset_index()\n",
    "size_dist.columns = ['group_size', 'prob']\n",
    "\n",
    "# Calculate expected value\n",
    "expected_value = (size_dist['group_size'] * size_dist['prob']).sum()\n",
    "print(expected_value)"
   ]
  },
  {
   "cell_type": "markdown",
   "id": "8ea5faaa",
   "metadata": {},
   "source": [
    "### 2.6.4 Instructions 4/4\n",
    "\n",
    "- Calculate the probability of randomly picking a group of 4 or more people by subsetting for groups of size 4 or more and summing the probabilities of selecting those groups."
   ]
  },
  {
   "cell_type": "code",
   "execution_count": 23,
   "id": "04bb3f07",
   "metadata": {},
   "outputs": [
    {
     "name": "stdout",
     "output_type": "stream",
     "text": [
      "0.30000000000000004\n"
     ]
    }
   ],
   "source": [
    "# Create probability distribution\n",
    "size_dist = restaurant_groups['group_size'].value_counts() / restaurant_groups.shape[0]\n",
    "# Reset index and rename columns\n",
    "size_dist = size_dist.reset_index()\n",
    "size_dist.columns = ['group_size', 'prob']\n",
    "\n",
    "# Expected value\n",
    "expected_value = np.sum(size_dist['group_size'] * size_dist['prob'])\n",
    "\n",
    "# Subset groups of size 4 or more\n",
    "groups_4_or_more = size_dist[size_dist['group_size'] >= 4]\n",
    "\n",
    "# Sum the probabilities of groups_4_or_more\n",
    "prob_4_or_more = np.sum(groups_4_or_more['prob'])\n",
    "print(prob_4_or_more)"
   ]
  },
  {
   "attachments": {
    "2.PNG": {
     "image/png": "[encoded data removed]"
    }
   },
   "cell_type": "markdown",
   "id": "16edd612",
   "metadata": {},
   "source": [
    "## 2.7 Identifying distributions\n",
    "\n",
    "Which sample is most likely to have been taken from a uniform distribution?\n",
    "![2.PNG](attachment:2.PNG)"
   ]
  },
  {
   "cell_type": "markdown",
   "id": "068b8ca9",
   "metadata": {},
   "source": [
    "### 2.7.1 Answer the question\n",
    "### Possible Answers\n",
    "\n",
    "- [ ] A\n",
    "\n",
    "- [x] B\n",
    "\n",
    "- [ ] C"
   ]
  },
  {
   "cell_type": "markdown",
   "id": "c1a68851",
   "metadata": {},
   "source": [
    "## 2.8 Expected value vs. sample mean\n",
    "\n",
    "The app to the right will take a sample from a discrete uniform distribution, which includes the numbers 1 through 9, and calculate the sample's mean. You can adjust the size of the sample using the slider. Note that the expected value of this distribution is 5.\n",
    "\n",
    "A sample is taken, and you win twenty dollars if the sample's mean is less than 4. There's a catch: you get to pick the sample's size.\n",
    "\n",
    "Which sample size is ***most likely*** to win you the twenty dollars?"
   ]
  },
  {
   "cell_type": "markdown",
   "id": "16a3efb6",
   "metadata": {},
   "source": [
    "### 2.8.1 Instructions\n",
    "\n",
    "- [x] 10\n",
    "\n",
    "- [ ] 100\n",
    "\n",
    "- [ ] 1000\n",
    "\n",
    "- [ ] 5000\n",
    "\n",
    "- [ ] 10000"
   ]
  },
  {
   "cell_type": "markdown",
   "id": "693c4309",
   "metadata": {},
   "source": [
    "## 2.9 Continuous distributions"
   ]
  },
  {
   "attachments": {
    "3.PNG": {
     "image/png": "[encoded data removed]"
    }
   },
   "cell_type": "markdown",
   "id": "8911b8bc",
   "metadata": {},
   "source": [
    "## 2.10 Which distribution?\n",
    "\n",
    "At this point, you've learned about the two different variants of the uniform distribution: the discrete uniform distribution, and the continuous uniform distribution. In this exercise, you'll decide which situations follow which distribution.\n",
    "![3.PNG](attachment:3.PNG)"
   ]
  },
  {
   "cell_type": "markdown",
   "id": "aaebe840",
   "metadata": {},
   "source": [
    "### 2.10.1 Instructions\n",
    "\n",
    "- Map each situation to the probability distribution it would best be modeled by.\n",
    "\n",
    "| Discrete uniform                                                                                  | Continuous uniform                                                                                                                            | Other                         |\n",
    "|:-------------------------------------------------------------------------------------------------:|:---------------------------------------------------------------------------------------------------------------------------------------------:|:-----------------------------:|\n",
    "| The ticket number of a raffle winner, assuming there is one ticket for each number from 1 to 100. | The time you'll have to wait for a geyser to erupt if you show up at a random time, knowing that the geyser erupts exactly every ten minutes. | The height of a random person |\n",
    "| The outcome of rolling a 4-sider die.                                                             | The time of day a baby will be born.                                                                                                          |                               |"
   ]
  },
  {
   "cell_type": "markdown",
   "id": "040b958e",
   "metadata": {},
   "source": [
    "## 2.11 Data back-ups\n",
    "\n",
    "The sales software used at your company is set to automatically back itself up, but no one knows exactly what time the back-ups happen. It is known, however, that back-ups happen exactly every 30 minutes. Amir comes back from sales meetings at random times to update the data on the client he just met with. He wants to know how long he'll have to wait for his newly-entered data to get backed up. Use your new knowledge of continuous uniform distributions to model this situation and answer Amir's questions."
   ]
  },
  {
   "cell_type": "markdown",
   "id": "313eb701",
   "metadata": {},
   "source": [
    "### 2.11.1 Instructions 1/4\n",
    "\n",
    "- To model how long Amir will wait for a back-up using a continuous uniform distribution, save his lowest possible wait time as `min_time` and his longest possible wait time as `max_time`. Remember that back-ups happen every 30 minutes."
   ]
  },
  {
   "cell_type": "code",
   "execution_count": 24,
   "id": "8959215b",
   "metadata": {},
   "outputs": [],
   "source": [
    "# Min and max wait times for back-up that happens every 30 min\n",
    "min_time = 0\n",
    "max_time = 30"
   ]
  },
  {
   "cell_type": "markdown",
   "id": "c9ccd419",
   "metadata": {},
   "source": [
    "### 2.11.2 Instructions 2/4\n",
    "\n",
    "- Import `uniform` from `scipy.stats` and calculate the probability that Amir has to wait less than 5 minutes, and store in a variable called `prob_less_than_5`."
   ]
  },
  {
   "cell_type": "code",
   "execution_count": 25,
   "id": "6e085c7a",
   "metadata": {},
   "outputs": [
    {
     "name": "stdout",
     "output_type": "stream",
     "text": [
      "0.16666666666666666\n"
     ]
    }
   ],
   "source": [
    "# Min and max wait times for back-up that happens every 30 min\n",
    "min_time = 0\n",
    "max_time = 30\n",
    "\n",
    "# Import uniform from scipy.stats\n",
    "from scipy.stats import uniform\n",
    "\n",
    "# Calculate probability of waiting less than 5 mins\n",
    "prob_less_than_5 = uniform.cdf(5, 0, 30)\n",
    "print(prob_less_than_5)"
   ]
  },
  {
   "cell_type": "markdown",
   "id": "82d0a3c5",
   "metadata": {},
   "source": [
    "### 2.11.3 Instructions 3/4\n",
    "\n",
    "- Calculate the probability that Amir has to wait more than 5 minutes, and store in a variable called `prob_greater_than_5`. "
   ]
  },
  {
   "cell_type": "code",
   "execution_count": 26,
   "id": "7200011e",
   "metadata": {},
   "outputs": [
    {
     "name": "stdout",
     "output_type": "stream",
     "text": [
      "0.8333333333333334\n"
     ]
    }
   ],
   "source": [
    "# Min and max wait times for back-up that happens every 30 min\n",
    "min_time = 0\n",
    "max_time = 30\n",
    "\n",
    "# Import uniform from scipy.stats\n",
    "from scipy.stats import uniform\n",
    "\n",
    "# Calculate probability of waiting more than 5 mins\n",
    "prob_greater_than_5 = 1 - uniform.cdf(5, 0, 30)\n",
    "print(prob_greater_than_5)"
   ]
  },
  {
   "cell_type": "markdown",
   "id": "f24510a5",
   "metadata": {},
   "source": [
    "### 2.11.4 Instructions 4/4\n",
    "\n",
    "- Calculate the probability that Amir has to wait between 10 and 20 minutes, and store in a variable called `prob_between_10_and_20`."
   ]
  },
  {
   "cell_type": "code",
   "execution_count": 27,
   "id": "f302d040",
   "metadata": {},
   "outputs": [
    {
     "name": "stdout",
     "output_type": "stream",
     "text": [
      "0.3333333333333333\n"
     ]
    }
   ],
   "source": [
    "# Min and max wait times for back-up that happens every 30 min\n",
    "min_time = 0\n",
    "max_time = 30\n",
    "\n",
    "# Import uniform from scipy.stats\n",
    "from scipy.stats import uniform\n",
    "\n",
    "# Calculate probability of waiting 10-20 mins\n",
    "prob_between_10_and_20 = uniform.cdf(20, 0, 30) - uniform.cdf(10, 0, 30)\n",
    "print(prob_between_10_and_20)"
   ]
  },
  {
   "cell_type": "markdown",
   "id": "d6d993d4",
   "metadata": {},
   "source": [
    "## 2.12 Simulating wait times\n",
    "\n",
    "To give Amir a better idea of how long he'll have to wait, you'll simulate Amir waiting 1000 times and create a histogram to show him what he should expect. Recall from the last exercise that his minimum wait time is 0 minutes and his maximum wait time is 30 minutes.\n",
    "\n",
    "As usual, `pandas` as `pd`, `numpy` as `np`, and `matplotlib.pyplot` as `plt` are loaded."
   ]
  },
  {
   "cell_type": "markdown",
   "id": "b3ae0722",
   "metadata": {},
   "source": [
    "### 2.12.1 Instructions 1/4\n",
    "\n",
    "- Set the random seed to `334`."
   ]
  },
  {
   "cell_type": "code",
   "execution_count": 28,
   "id": "784d17fa",
   "metadata": {},
   "outputs": [],
   "source": [
    "# Set random seed to 334\n",
    "np.random.seed(334)"
   ]
  },
  {
   "cell_type": "markdown",
   "id": "46972002",
   "metadata": {},
   "source": [
    "### 2.12.2 Instructions 2/4\n",
    "\n",
    "- Import `uniform` from `scipy.stats`."
   ]
  },
  {
   "cell_type": "code",
   "execution_count": 29,
   "id": "e9087b10",
   "metadata": {},
   "outputs": [],
   "source": [
    "# Set random seed to 334\n",
    "np.random.seed(334)\n",
    "\n",
    "# Import uniform\n",
    "from scipy.stats import uniform"
   ]
  },
  {
   "cell_type": "markdown",
   "id": "28b4ab48",
   "metadata": {},
   "source": [
    "### 2.12.3 Instructions 3/4\n",
    "\n",
    "- Generate 1000 wait times from the continuous uniform distribution that models Amir's wait time. Save this as `wait_times`."
   ]
  },
  {
   "cell_type": "code",
   "execution_count": 30,
   "id": "7bec320e",
   "metadata": {},
   "outputs": [
    {
     "name": "stdout",
     "output_type": "stream",
     "text": [
      "[ 7.144097    0.97455866  3.72802787  5.11644319  8.70602482 24.69140099\n",
      " 23.98012075  3.19592668 25.1985306  17.89048629 24.68695356 18.27160808\n",
      " 22.85829011  0.12929581 15.67789664  2.3262095  15.79151771 21.90473557\n",
      " 18.25817257 15.78657023 28.74328434  9.38971275 17.0010565   0.95433991\n",
      " 15.96917606  2.16395679  8.903302   19.24982156  6.52414731 14.10185677\n",
      " 27.86973455 14.38121016 28.59233824 13.17550521 22.96382405  2.52904371\n",
      "  6.2163781   8.40217036  4.48079914 28.16365298 19.73302715  3.63959282\n",
      "  1.74002295  1.5324219  26.97096908 29.37490861  4.71379092  6.44990488\n",
      "  6.81999564 22.81302458 12.41563042 11.14591581  8.08043184 29.60574053\n",
      "  3.24571518 19.66709277 13.38939302 29.56433707 24.84697258  6.249684\n",
      " 15.07668579  5.27474477 27.27430815  2.42084219 27.88317515  0.81231424\n",
      "  3.48564273 19.80738592  6.11128124 19.10323692  9.12156821 28.31696467\n",
      " 20.80158047 17.0840986  26.59969632 28.38502685 20.75398728 11.73610958\n",
      " 20.55950389 18.20349931  4.68857179 17.67638417 29.99091109 18.67756789\n",
      " 11.16391438  3.53028943 14.93882748 24.89203249 17.47310051 20.8740314\n",
      " 16.6070177  19.19564265  8.96414904  5.28451257  1.05350993 21.77737031\n",
      " 23.61684528 22.72809506 24.8322021  14.36218169  8.6091251  25.13656432\n",
      " 11.45898163 19.92575672 25.12266034  7.63273768  5.0240165  20.92435348\n",
      " 13.23933607  0.6401269  15.6813087  13.98669465  5.00961969 26.55407346\n",
      " 15.6478544   5.36392254 22.2807534  22.95452053 12.09657902 15.33347354\n",
      " 29.36367996 27.32761079 16.57775534 13.28054948 17.09693671 27.45768651\n",
      "  2.59501602  9.41004409  9.14688319 19.72368555  0.8399502   1.36535784\n",
      "  8.24745591 10.2650512  29.95498509 20.64562623  5.93986334 11.17818273\n",
      " 26.32817252  8.07638083  6.6348515  16.29376148 29.99092275 25.71567927\n",
      " 11.55546768 21.91960495 11.23343293 12.37874514 15.0825809  28.02838931\n",
      " 22.8535862   8.8911682  27.94808637 18.59880054 19.31673054  4.78414772\n",
      " 24.68245155  4.61858339  4.34185585  9.86285797 22.64196176 20.70638537\n",
      "  2.07610021 16.5432359   0.83932634 26.55708037 11.96557209  8.07255521\n",
      " 10.80342781 23.29099616 22.86574237 14.34997804  5.88657148 13.93691899\n",
      "  3.85622609 15.39470306 21.25310818 18.36870054  8.06383855 27.35806466\n",
      "  8.24616015 21.22703251 17.37235409  4.83719581 17.84253763  3.31270513\n",
      " 28.05979944 28.42309918  8.73094692 25.71299775  2.22366188  4.30187426\n",
      " 21.89436597 29.49072021 15.30664125 22.3802789   0.08102944 14.78896917\n",
      " 16.40399119  7.68390804  2.10437223  6.68794817 10.19108918 22.31258787\n",
      "  5.8189225  27.60781938 19.51339944 21.33124269  1.6294243  15.51174843\n",
      " 13.47212795 16.24027513 22.10266715  5.52406499  7.22056009  7.36829948\n",
      " 18.91081125 19.80927487 12.80401324  2.70031211 26.86102574 22.01951095\n",
      " 17.17665123 18.81827876  3.67837051 15.46293386 29.51597515 15.89595847\n",
      " 17.41855781 25.55857784 25.65737763 16.4151132   5.00323267 11.63197386\n",
      " 17.66808546 25.466024   15.18486451  0.85940046 27.00984537 14.42468181\n",
      " 27.4812224   9.47231537  2.05988889 17.30621667 24.95053845  5.57417231\n",
      " 16.0357139  13.26420998 29.46815429  1.16904392  4.53575356 10.65537707\n",
      " 11.26270564  6.0214732  27.64202445 10.29940068 28.54836132 22.22931556\n",
      " 17.55762098 28.31703818  3.20547158  6.51317017  9.60103128 11.55504752\n",
      "  1.10769737 25.19601111 26.41265999  3.17669809 29.03461951 23.78452941\n",
      " 22.35394515 18.03280452 11.23378656 25.18138124 23.9597556  10.58566727\n",
      "  2.56203807 16.32353266  8.34705721 21.65497161 27.82670318  3.24006097\n",
      "  9.48180202  1.48689026 12.89086955  0.84704402 21.10201173  9.14793573\n",
      " 27.17361576 18.45069642 14.49691685  3.98370201  0.44134824  5.05259221\n",
      " 18.47816542  8.11334339 19.95136747  7.1754582  20.10018729  4.97982617\n",
      "  8.81527565  5.76132824 15.72125645  4.76049255  4.76730185  4.54755451\n",
      " 11.99610604 22.19271804  7.0054561   0.9554475  12.72622458  5.10178612\n",
      "  3.46974455  7.75842307 13.13578589  3.8451399  11.02848319  5.77758805\n",
      " 16.19423275 23.15484726 20.1239129   8.50840771 10.91441361  7.11704929\n",
      " 20.25016912 28.69395694 20.42004446 24.35824921 24.56208344 18.70863082\n",
      "  1.55698104 27.49671811  2.57368945 23.03303579  2.38875615 13.98131955\n",
      " 21.8838685   8.44024292 25.05019036 21.95993093  8.76034493 22.85418651\n",
      " 26.07063198  5.46361622 25.58172855 15.67874872 17.81956733 26.81841668\n",
      " 13.19033546 23.19910687 23.62718492 13.15663104 23.41668296  1.87489683\n",
      " 25.2484807   8.4845543   4.92042842 22.73961665 20.2466653  19.58723259\n",
      "  2.03270822 22.9895573   7.3372969  17.54273192 21.09771191 16.96192787\n",
      "  3.48948107 16.15590988 17.70440831  1.60420151 19.81559878 25.80086106\n",
      " 15.68959678 18.83009183 23.19198615 12.66930187  7.00118096  6.64600958\n",
      " 19.87400439 19.55842619 25.54278522 14.27653959 12.0734572  22.78237983\n",
      " 17.15165279 24.08463516 28.59624819 28.16152099  5.93891699 16.94105605\n",
      " 20.80665928  9.99890108  8.79730012  7.05110922  3.8104523   5.62610024\n",
      "  5.58639014 18.78260685  9.95891585 20.62479473 28.77797774 25.81469814\n",
      "  2.25609181 13.65905187 21.1528068   8.01290913  7.73848867 26.88193447\n",
      " 21.44953343 10.12615075 19.75731318  4.27872352 20.30849315 26.77882578\n",
      "  1.351449   20.8075843   0.46173517 19.80997905  9.7624355  17.37924972\n",
      "  1.43062491 22.20157066 25.1824487  28.8357933  16.09702531 24.73842767\n",
      "  0.2308042   6.13048075 29.614561    8.33629603 16.12795224 29.21240454\n",
      " 13.45025092 28.92901674 28.68113999 18.76015795  8.85400148  0.72177506\n",
      " 18.5678127   1.5946721   6.51114298  0.14954964  8.40759558 15.3456776\n",
      " 18.16257912 21.48146244 19.35734786  6.69307887 11.14786018  5.19542535\n",
      " 20.11979092 15.36643858  1.75976538  1.88235419 14.67047828 17.87206607\n",
      " 23.89728101 11.53568193 19.55519337 12.9925055   3.75560435  8.84921298\n",
      " 10.41509647 10.05015649  2.08203941 13.95507535 18.69687686  3.65394569\n",
      " 16.73715719 25.9668531  19.90170356 10.66486523 27.98606183 19.33610382\n",
      " 27.37475735 24.1411498  28.39648506 10.56397635 17.67065935 19.81446104\n",
      "  5.08556252 21.61589418  4.91334443 10.25571404 13.86547777 28.5015485\n",
      " 19.52083861 22.05488912  9.17148377  1.11732389 18.30445657 13.80853\n",
      "  2.00270834 26.65687785  8.33324258 16.37203881 24.89846207  8.62610704\n",
      " 29.82242843 16.81338141 17.33734435  1.0612399  29.2449401   6.66842773\n",
      " 14.65276829 11.46127532  5.94042969  8.51718703 19.16192131 27.77484802\n",
      " 26.80478414 18.46459441 14.64021886 10.41881806  5.05273386 22.93123257\n",
      " 12.32037453 29.07333784 19.8933068  19.33393445 23.75624561 27.41576612\n",
      "  4.89400728 27.97022569  5.46431449 26.39553105 23.10148492  5.59326106\n",
      "  5.43438053 12.80881651 22.58136604  6.81522341  1.29891598  8.92824717\n",
      "  0.06222649  0.31415758  1.49504525 14.46068646 17.65853438  7.4496374\n",
      " 17.22446855 21.84287476 21.60599421 28.86047834 28.24253893  7.10948381\n",
      " 26.95417677 22.69920835 14.85402627  8.3681587  29.58708806 13.78486659\n",
      " 17.35864925 26.46297136 21.22739031 28.53046947  8.93805023  7.02914326\n",
      " 11.80133052 18.99940059 14.08892962  3.85612353 13.56279119 20.12274586\n",
      " 16.74078625 29.53044614  5.18316362 11.53812907 27.43654492  0.42476924\n",
      " 29.87062735  5.50874294  3.8568494   6.41204685 20.30702925  3.32308882\n",
      "  3.94770677  6.87059867  3.93014852 21.98204107  0.86507581 20.56982783\n",
      " 10.47517828  5.51681714 28.14377379 29.45286026 11.06512511 16.61676719\n",
      "  1.98579434  5.54260989  1.07592481  2.31764882  8.88290412 21.4881271\n",
      " 22.64224754  7.27994039  9.37643238 10.83908073  0.69663121 21.23717882\n",
      "  9.66027816 16.97956524 14.81638878 16.5534871   9.75601043  5.93087217\n",
      " 28.36797115 21.09462207 13.03173376  0.7983171   3.50516639 19.00649926\n",
      "  5.82081691  5.81833671 20.61983383 28.71056507  6.91237663 12.4619051\n",
      " 12.30761644 19.84040954  4.64447622  0.64917761 19.86567877  5.99418851\n",
      "  1.35794716 27.48067897 29.73644518 28.6065078   8.5299145   4.12152041\n",
      "  0.5607774  18.57081877 22.17373158  7.58966957 18.2784296  10.70211771\n",
      " 11.13177466 29.30678999  1.2423198  14.35713294 17.35500663 17.14866592\n",
      " 10.3789623  24.17742423 14.94162775  2.59992154 11.85508506 27.4947809\n",
      " 22.37927752 16.63597764  2.18654009 27.58998237 24.9960839  18.97091648\n",
      " 19.87097998 29.71143066 18.15641786  8.02594757 12.34873726  6.39950324\n",
      " 26.71285573  5.72013105 27.25611587 11.11118651 13.14563054 24.3161132\n",
      "  9.12227066  6.09164062  7.61512695 15.27894726  1.55172543 16.11462964\n",
      " 20.01927489  0.36023495 22.18975204 10.68017381 26.67207213 18.49390616\n",
      " 14.12316947 12.30157185 24.46937392  2.94349773  2.71721257 19.89328934\n",
      " 11.60564868 20.99716418  6.83938153  3.15126472 21.18057782 23.04084254\n",
      " 29.52319489 13.41468779  8.36540008  1.17474372 16.52320975 16.29079038\n",
      " 23.68058086  9.73990339 21.21125025 11.64009223  8.27581985 25.34508281\n",
      " 27.14020237 20.99498767 26.36379634 22.12460919 14.38182874 12.83843751\n",
      "  2.4921115   3.30654254 15.38775096  9.47486316 16.53719202 12.18243936\n",
      "  6.94896378  5.99117553 16.06222869  5.82268307 10.69273715  8.58678605\n",
      " 27.77414396  6.29565658 22.85039389 22.68722007  0.43084526 19.12501901\n",
      " 23.05647004  6.23804663 16.49611786 10.854354   12.4620608  26.2548841\n",
      " 19.76816626  6.54492209 28.71514653  7.80202629 16.96751571 11.15377563\n",
      " 22.80092952  5.09403519 24.00001246  8.21769557 13.53560859  2.94076629\n",
      "  4.02757203  8.96659938  6.86912639 12.0326642  27.15751025 15.4782868\n",
      "  7.22781653 17.19415714 10.47116023 21.49491811  5.4747806  26.51862933\n",
      " 26.16289208 29.74722369 26.5735013  16.7792301  15.31299374  5.97510684\n",
      " 14.539767    5.34494067  8.90650139 13.70810391  0.63137974  9.78624106\n",
      " 22.98898991 21.52163702  5.36747243  2.08048168  7.42243152 25.8369847\n",
      " 25.40242175 13.07497422 28.66966768 24.04491316 21.29637332  7.42492739\n",
      "  2.11604443 29.49179095  4.27645773  8.61358603 17.16555207 26.59803794\n",
      " 13.78944191 15.62067191  9.21670849 12.14562662 10.52617782 25.98579879\n",
      " 14.39787573  8.08763319 16.78552727 22.79597812  8.7695133  17.27072338\n",
      " 24.43151203 16.88485001 24.44534146 16.21756467 13.61941002 19.87394843\n",
      " 12.63576776 14.50185412 26.83264391  3.00081583 16.48057545  2.45212633\n",
      " 18.83439311 13.19865842  9.40766691 15.60923545  1.63933761 23.76828936\n",
      " 10.15252566  0.40447879 24.59292978  1.3675066   9.71814934 12.16659686\n",
      " 23.04867235 20.03414656  8.5168254  19.59414161  6.77825259  8.8070403\n",
      "  5.87152425  2.5970591   4.93086037 21.00689143 10.53794997  4.50059669\n",
      "  4.80161712 19.86587841 13.82231035 25.92370876 16.76861995 19.88191792\n",
      "  5.11770677 29.00105159 25.65446515  6.84179709 22.57233685  8.15577205\n",
      " 24.13735729  4.03149435  4.13231282 16.12464321 22.48533776 20.282976\n",
      "  5.74012718 22.43342651  2.60477234  3.21766129  5.65283575 28.84370986\n",
      " 23.65634284 21.7798963  16.85637734  0.61478999  4.53882038  4.65444933\n",
      "  9.04857098 19.63428333 15.00766938 17.76592972 21.46082362 25.77459268\n",
      " 19.85548771  8.20584755  8.47650143 21.69630957  3.13097349 10.20447772\n",
      " 29.66564838 23.56946713 26.2778947  23.81853285 10.81655255  6.05639951\n",
      "  2.85441413 19.56517693 23.71136826 20.36624573  6.59131157 23.74895849\n",
      " 22.42574624 10.31297875  6.60447634  5.37750477 29.10394928 12.33961909\n",
      " 14.61065264 27.83726115  5.16829978 19.01401557  5.2640168  10.30361904\n",
      " 24.32169445  3.18704573 25.06890427 26.01541021 13.94792952 21.25266832\n",
      " 25.93658805 16.80375076  1.50816509  2.64600638 13.47500562 15.08548187\n",
      " 14.90796765 20.88436957 22.53457433 15.84915157  8.86204958 27.73245412\n",
      " 11.22385246 15.78749796 15.91197569 22.37113884  3.19226887  4.65976517\n",
      "  9.30923397 10.77526643  3.97151627 29.28059273 29.27602822 20.71976894\n",
      " 18.60895651  4.29611269 23.93608872 22.58290622  4.47426371  7.2489746\n",
      " 15.22674952 27.63320022  8.78304562 28.40607909 17.1539386   2.61718331\n",
      " 10.65596075 29.8980006  29.91966885 27.34174997  0.61629001 15.17716754\n",
      "  9.90825324 16.72368794 12.96779625 10.46723235  1.79071474  4.91140186\n",
      "  0.71891742 27.83882355 26.95599526 19.63276655 25.02837667  6.70120501\n",
      " 27.8039181   3.93032514 29.20218039 20.45922096 18.39870488  6.64103042\n",
      " 15.9427296  29.26956198 29.75236465  6.24029179 10.9032813  25.74945237\n",
      " 19.34538144 16.31296664 10.93219849 10.70922385 21.19432171 10.39189311\n",
      "  1.8610141  24.11741202 25.59864155  0.68627027 15.7876837   1.10010957\n",
      "  3.47094738 27.61646738 10.07577678 19.84021078 27.29452887  8.52034156\n",
      "  5.181769   12.92311547 14.25423041 26.70151037 27.44545754 24.06119139\n",
      " 14.00076717  8.56031135 25.99043117 20.11722212]\n"
     ]
    }
   ],
   "source": [
    "# Set random seed to 334\n",
    "np.random.seed(334)\n",
    "\n",
    "# Import uniform\n",
    "from scipy.stats import uniform\n",
    "\n",
    "# Generate 1000 wait times between 0 and 30 mins\n",
    "wait_times = uniform.rvs(0, 30, size = 1000)\n",
    "\n",
    "print(wait_times)"
   ]
  },
  {
   "cell_type": "markdown",
   "id": "2774214e",
   "metadata": {},
   "source": [
    "### 2.12.4 Instructions 4/4\n",
    "\n",
    "- Create a histogram of the simulated wait times and show the plot."
   ]
  },
  {
   "cell_type": "code",
   "execution_count": 31,
   "id": "2341580b",
   "metadata": {},
   "outputs": [
    {
     "data": {
      "image/png": "[encoded data removed]",
      "text/plain": [
       "<Figure size 640x480 with 1 Axes>"
      ]
     },
     "metadata": {},
     "output_type": "display_data"
    }
   ],
   "source": [
    "# Set random seed to 334\n",
    "np.random.seed(334)\n",
    "\n",
    "# Import uniform\n",
    "from scipy.stats import uniform\n",
    "\n",
    "# Generate 1000 wait times between 0 and 30 mins\n",
    "wait_times = uniform.rvs(0, 30, size=1000)\n",
    "\n",
    "# Create a histogram of simulated times and show plot\n",
    "plt.hist(wait_times)\n",
    "plt.show()"
   ]
  },
  {
   "cell_type": "markdown",
   "id": "6e92fdf7",
   "metadata": {},
   "source": [
    "## 2.13 The binomial distribution"
   ]
  },
  {
   "cell_type": "markdown",
   "id": "ad04710c",
   "metadata": {},
   "source": [
    "## 2.14 Simulating sales deals\n",
    "\n",
    "Assume that Amir usually works on 3 deals per week, and overall, he wins 30% of deals he works on. Each deal has a binary outcome: it's either lost, or won, so you can model his sales deals with a binomial distribution. In this exercise, you'll help Amir simulate a year's worth of his deals so he can better understand his performance.\n",
    "\n",
    "`numpy` is imported as `np`."
   ]
  },
  {
   "cell_type": "markdown",
   "id": "4c4a9d37",
   "metadata": {},
   "source": [
    "### 2.14.1 Instructions 1/4\n",
    "\n",
    "- Import `binom` from `scipy.stats` and set the random seed to 10."
   ]
  },
  {
   "cell_type": "code",
   "execution_count": 32,
   "id": "fe90cab0",
   "metadata": {},
   "outputs": [],
   "source": [
    "# Import binom from scipy.stats\n",
    "from scipy.stats import binom\n",
    "\n",
    "# Set random seed to 10\n",
    "np.random.seed(10)"
   ]
  },
  {
   "cell_type": "markdown",
   "id": "b6ba942e",
   "metadata": {},
   "source": [
    "### 2.14.2 Instructions 2/4\n",
    "\n",
    "- Simulate 1 deal worked on by Amir, who wins 30% of the deals he works on."
   ]
  },
  {
   "cell_type": "code",
   "execution_count": 33,
   "id": "ed6a7b75",
   "metadata": {},
   "outputs": [
    {
     "name": "stdout",
     "output_type": "stream",
     "text": [
      "[1]\n"
     ]
    }
   ],
   "source": [
    "# Import binom from scipy.stats\n",
    "from scipy.stats import binom\n",
    "\n",
    "# Set random seed to 10\n",
    "np.random.seed(10)\n",
    "\n",
    "# Simulate a single deal\n",
    "print(binom.rvs(1, 0.3, size=1))"
   ]
  },
  {
   "cell_type": "markdown",
   "id": "80560f96",
   "metadata": {},
   "source": [
    "### 2.14.3 Instructions 3/4\n",
    "\n",
    "- Simulate a typical week of Amir's deals, or one week of 3 deals."
   ]
  },
  {
   "cell_type": "code",
   "execution_count": 34,
   "id": "c4b0c44a",
   "metadata": {},
   "outputs": [
    {
     "name": "stdout",
     "output_type": "stream",
     "text": [
      "[1]\n"
     ]
    }
   ],
   "source": [
    "# Import binom from scipy.stats\n",
    "from scipy.stats import binom\n",
    "\n",
    "# Set random seed to 10\n",
    "np.random.seed(10)\n",
    "\n",
    "# Simulate 1 week of 3 deals\n",
    "print(binom.rvs(3, 0.3, size=1))"
   ]
  },
  {
   "cell_type": "markdown",
   "id": "c8f9ce45",
   "metadata": {},
   "source": [
    "### 2.14.4 Instructions 4/4\n",
    "\n",
    "- Simulate a year's worth of Amir's deals, or 52 weeks of 3 deals each, and store in `deals`.\n",
    "- Print the mean number of deals he won per week."
   ]
  },
  {
   "cell_type": "code",
   "execution_count": 35,
   "id": "3c10dd97",
   "metadata": {},
   "outputs": [
    {
     "name": "stdout",
     "output_type": "stream",
     "text": [
      "0.8269230769230769\n"
     ]
    }
   ],
   "source": [
    "# Import binom from scipy.stats\n",
    "from scipy.stats import binom\n",
    "\n",
    "# Set random seed to 10\n",
    "np.random.seed(10)\n",
    "\n",
    "# Simulate 52 weeks of 3 deals\n",
    "deals = binom.rvs(3, 0.3, size=52)\n",
    "\n",
    "# Print mean deals won per week\n",
    "print(np.mean(deals))"
   ]
  },
  {
   "cell_type": "markdown",
   "id": "b4c409c5",
   "metadata": {},
   "source": [
    "## 2.15 Calculating binomial probabilities\n",
    "\n",
    "Just as in the last exercise, assume that Amir wins 30% of deals. He wants to get an idea of how likely he is to close a certain number of deals each week. In this exercise, you'll calculate what the chances are of him closing different numbers of deals using the binomial distribution.\n",
    "\n",
    "`binom` is imported from `scipy.stats`."
   ]
  },
  {
   "cell_type": "markdown",
   "id": "c6486c80",
   "metadata": {},
   "source": [
    "### 2.15.1 Instructions 1/3\n",
    "\n",
    "- What's the probability that Amir closes all 3 deals in a week? Save this as `prob_3`."
   ]
  },
  {
   "cell_type": "code",
   "execution_count": 36,
   "id": "4db92ccd",
   "metadata": {},
   "outputs": [
    {
     "name": "stdout",
     "output_type": "stream",
     "text": [
      "0.026999999999999996\n"
     ]
    }
   ],
   "source": [
    "# Probability of closing 3 out of 3 deals\n",
    "prob_3 = binom.pmf(3, 3, 0.3)\n",
    "\n",
    "print(prob_3)"
   ]
  },
  {
   "cell_type": "markdown",
   "id": "2fea4c16",
   "metadata": {},
   "source": [
    "### 2.15.2 Instructions 2/3\n",
    "\n",
    "- What's the probability that Amir closes 1 or fewer deals in a week? Save this as `prob_less_than_or_equal_1`."
   ]
  },
  {
   "cell_type": "code",
   "execution_count": 37,
   "id": "026ac834",
   "metadata": {},
   "outputs": [
    {
     "name": "stdout",
     "output_type": "stream",
     "text": [
      "0.784\n"
     ]
    }
   ],
   "source": [
    "# Probability of closing <= 1 deal out of 3 deals\n",
    "prob_less_than_or_equal_1 = binom.cdf(1, 3, 0.3)\n",
    "\n",
    "print(prob_less_than_or_equal_1)"
   ]
  },
  {
   "cell_type": "markdown",
   "id": "23432898",
   "metadata": {},
   "source": [
    "### 2.15.3 Instructions 3/3\n",
    "\n",
    "- What's the probability that Amir closes more than 1 deal? Save this as `prob_greater_than_1`."
   ]
  },
  {
   "cell_type": "code",
   "execution_count": 38,
   "id": "813506b6",
   "metadata": {},
   "outputs": [
    {
     "name": "stdout",
     "output_type": "stream",
     "text": [
      "0.21599999999999997\n"
     ]
    }
   ],
   "source": [
    "# Probability of closing > 1 deal out of 3 deals\n",
    "prob_greater_than_1 = 1 - binom.cdf(1, 3, 0.3)\n",
    "\n",
    "print(prob_greater_than_1)"
   ]
  },
  {
   "cell_type": "markdown",
   "id": "f7a1e9ed",
   "metadata": {},
   "source": [
    "## 2.16 How many sales will be won?\n",
    "\n",
    "Now Amir wants to know how many deals he can expect to close each week if his win rate changes. Luckily, you can use your binomial distribution knowledge to help him calculate the expected value in different situations. Recall from the video that the expected value of a binomial distribution can be calculated by\n",
    "\n",
    "<math xmlns=\"http://www.w3.org/1998/Math/MathML\">\n",
    "  <mi>n</mi>\n",
    "  <mo>&#xD7;</mo>\n",
    "  <mi>p</mi>\n",
    "</math>"
   ]
  },
  {
   "cell_type": "markdown",
   "id": "db8811dc",
   "metadata": {},
   "source": [
    "### 2.16.1 Instructions\n",
    "\n",
    "- Calculate the expected number of sales out of the **3** he works on that Amir will win each week if he maintains his 30% win rate.\n",
    "- Calculate the expected number of sales out of the 3 he works on that he'll win if his win rate drops to 25%.\n",
    "- Calculate the expected number of sales out of the 3 he works on that he'll win if his win rate rises to 35%."
   ]
  },
  {
   "cell_type": "code",
   "execution_count": 39,
   "id": "f80fea38",
   "metadata": {},
   "outputs": [
    {
     "name": "stdout",
     "output_type": "stream",
     "text": [
      "0.8999999999999999\n",
      "0.75\n",
      "1.0499999999999998\n"
     ]
    }
   ],
   "source": [
    "# Expected number won with 30% win rate\n",
    "won_30pct = 3 * 0.3\n",
    "print(won_30pct)\n",
    "\n",
    "# Expected number won with 25% win rate\n",
    "won_25pct = 3 * 0.25\n",
    "print(won_25pct)\n",
    "\n",
    "# Expected number won with 35% win rate\n",
    "won_35pct = 3 * 0.35\n",
    "print(won_35pct)"
   ]
  },
  {
   "cell_type": "markdown",
   "id": "30c2c9b9",
   "metadata": {},
   "source": [
    "# 3 More Distributions and the Central Limit Theorem\n",
    "\n",
    "It’s time to explore one of the most important probability distributions in statistics, normal distribution. You’ll create histograms to plot normal distributions and gain an understanding of the central limit theorem, before expanding your knowledge of statistical functions by adding the Poisson, exponential, and t-distributions to your repertoire."
   ]
  },
  {
   "cell_type": "markdown",
   "id": "79ebc46b",
   "metadata": {},
   "source": [
    "## 3.1 The normal distribution"
   ]
  },
  {
   "cell_type": "markdown",
   "id": "a17f5d19",
   "metadata": {},
   "source": [
    "## 3.2 Distribution of Amir's sales\n",
    "\n",
    "Since each deal Amir worked on (both won and lost) was different, each was worth a different amount of money. These values are stored in the `amount` column of `amir_deals` As part of Amir's performance review, you want to be able to estimate the probability of him selling different amounts, but before you can do this, you'll need to determine what kind of distribution the `amount` variable follows.\n",
    "\n",
    "Both `pandas` as `pd` and `matplotlib.pyplot` as `plt` are loaded and `amir_deals` is available."
   ]
  },
  {
   "cell_type": "markdown",
   "id": "548403bd",
   "metadata": {},
   "source": [
    "### 3.2.1 Instructions 1/2\n",
    "\n",
    "- Create a histogram with 10 bins to visualize the distribution of the `amount`. Show the plot."
   ]
  },
  {
   "cell_type": "code",
   "execution_count": 40,
   "id": "d3bc77c2",
   "metadata": {},
   "outputs": [
    {
     "data": {
      "image/png": "[encoded data removed]",
      "text/plain": [
       "<Figure size 640x480 with 1 Axes>"
      ]
     },
     "metadata": {},
     "output_type": "display_data"
    }
   ],
   "source": [
    "# Histogram of amount with 10 bins and show plo\n",
    "amir_deals['amount'].hist(bins = 10)\n",
    "plt.show()"
   ]
  },
  {
   "cell_type": "markdown",
   "id": "c22f0d6e",
   "metadata": {},
   "source": [
    "### 3.2.2 Instructions 2/2\n",
    "### Question\n",
    "Which probability distribution do the sales `amount`s most closely follow?\n",
    "### Possible Answers\n",
    "\n",
    "- [ ] Uniform\n",
    "\n",
    "- [ ] Binomial\n",
    "\n",
    "- [x] Normal\n",
    "\n",
    "- [ ] None of the above"
   ]
  },
  {
   "cell_type": "markdown",
   "id": "4cb61dff",
   "metadata": {},
   "source": [
    "## 3.3 Probabilities from the normal distribution\n",
    "\n",
    "Since each deal Amir worked on (both won and lost) was different, each was worth a different amount of money. These values are stored in the `amount` column of `amir_deals` and follow a normal distribution with a mean of 5000 dollars and a standard deviation of 2000 dollars. As part of his performance metrics, you want to calculate the probability of Amir closing a deal worth various amounts.\n",
    "\n",
    "`norm` from `scipy.stats` is imported as well as `pandas` as `pd`. The DataFrame `amir_deals` is loaded."
   ]
  },
  {
   "cell_type": "code",
   "execution_count": 41,
   "id": "4671b017",
   "metadata": {},
   "outputs": [],
   "source": [
    "from scipy.stats import norm"
   ]
  },
  {
   "cell_type": "markdown",
   "id": "fcbb992d",
   "metadata": {},
   "source": [
    "### 3.3.1 Instructions 1/4\n",
    "\n",
    "- What's the probability of Amir closing a deal worth less than $7500?"
   ]
  },
  {
   "cell_type": "code",
   "execution_count": 42,
   "id": "aec6e141",
   "metadata": {},
   "outputs": [
    {
     "name": "stdout",
     "output_type": "stream",
     "text": [
      "0.8943502263331446\n"
     ]
    }
   ],
   "source": [
    "# Probability of deal < 7500\n",
    "prob_less_7500 = norm.cdf(7500, 5000, 2000)\n",
    "\n",
    "print(prob_less_7500)"
   ]
  },
  {
   "cell_type": "markdown",
   "id": "2483caeb",
   "metadata": {},
   "source": [
    "### 3.3.2 Instructions 2/4\n",
    "\n",
    "- What's the probability of Amir closing a deal worth more than $1000?"
   ]
  },
  {
   "cell_type": "code",
   "execution_count": 43,
   "id": "38789178",
   "metadata": {},
   "outputs": [
    {
     "name": "stdout",
     "output_type": "stream",
     "text": [
      "0.9772498680518208\n"
     ]
    }
   ],
   "source": [
    "# Probability of deal > 1000\n",
    "prob_over_1000 = 1 - norm.cdf(1000, 5000, 2000)\n",
    "\n",
    "print(prob_over_1000)"
   ]
  },
  {
   "cell_type": "markdown",
   "id": "779faa9e",
   "metadata": {},
   "source": [
    "### 3.3.3 Instructions 3/4\n",
    "\n",
    "- What's the probability of Amir closing a deal worth between `$3000` and `$7000?`"
   ]
  },
  {
   "cell_type": "code",
   "execution_count": 44,
   "id": "e5e7c992",
   "metadata": {},
   "outputs": [
    {
     "name": "stdout",
     "output_type": "stream",
     "text": [
      "0.6826894921370859\n"
     ]
    }
   ],
   "source": [
    "# Probability of deal between 3000 and 7000\n",
    "prob_3000_to_7000 = norm.cdf(7000, 5000, 2000) - norm.cdf(3000, 5000, 2000)\n",
    "\n",
    "print(prob_3000_to_7000)"
   ]
  },
  {
   "cell_type": "markdown",
   "id": "2520317a",
   "metadata": {},
   "source": [
    "### 3.3.4 Instructions 4/4\n",
    "\n",
    "- What amount will 25% of Amir's sales be *less than*?"
   ]
  },
  {
   "cell_type": "code",
   "execution_count": 45,
   "id": "1afb4000",
   "metadata": {},
   "outputs": [
    {
     "name": "stdout",
     "output_type": "stream",
     "text": [
      "3651.0204996078364\n"
     ]
    }
   ],
   "source": [
    "# Calculate amount that 25% of deals will be less than\n",
    "pct_25 = norm.ppf(0.25, 5000, 2000)\n",
    "\n",
    "print(pct_25)"
   ]
  },
  {
   "cell_type": "markdown",
   "id": "59881554",
   "metadata": {},
   "source": [
    "## 3.4 Simulating sales under new market conditions\n",
    "\n",
    "The company's financial analyst is predicting that next quarter, the worth of each sale will increase by 20% and the volatility, or standard deviation, of each sale's worth will increase by 30%. To see what Amir's sales might look like next quarter under these new market conditions, you'll simulate new sales amounts using the normal distribution and store these in the `new_sales` DataFrame, which has already been created for you.\n",
    "\n",
    "In addition, `norm` from `scipy.stats`, `pandas` as `pd`, and `matplotlib.pyplot` as `plt` are loaded."
   ]
  },
  {
   "cell_type": "markdown",
   "id": "9aba2e2c",
   "metadata": {},
   "source": [
    "### 3.4.1 Instructions\n",
    "\n",
    "- Currently, Amir's average sale amount is `$5000`. Calculate what his new average amount will be if it increases by 20% and store this in `new_mean`.\n",
    "- Amir's current standard deviation is `$2000`. Calculate what his new standard deviation will be if it increases by 30% and store this in `new_sd`.\n",
    "- Create a variable called `new_sales`, which contains 36 simulated amounts from a normal distribution with a mean of `new_mean` and a standard deviation of `new_sd`.\n",
    "- Plot the distribution of the `new_sales` `amount`s using a histogram and show the plot."
   ]
  },
  {
   "cell_type": "code",
   "execution_count": 46,
   "id": "c5f7cce0",
   "metadata": {},
   "outputs": [
    {
     "data": {
      "image/png": "[encoded data removed]",
      "text/plain": [
       "<Figure size 640x480 with 1 Axes>"
      ]
     },
     "metadata": {},
     "output_type": "display_data"
    }
   ],
   "source": [
    "# Calculate new average amount\n",
    "new_mean = 5000 * 1.20\n",
    "\n",
    "# Calculate new standard deviation\n",
    "new_sd = 2000 * 1.30\n",
    "\n",
    "# Simulate 36 new sales\n",
    "new_sales = norm.rvs(new_mean, new_sd, size = 36)\n",
    "\n",
    "# Create histogram and show\n",
    "plt.hist(new_sales)\n",
    "plt.show()"
   ]
  },
  {
   "cell_type": "markdown",
   "id": "d036c1b1",
   "metadata": {},
   "source": [
    "## 3.5 Which market is better?\n",
    "\n",
    "The key metric that the company uses to evaluate salespeople is the percent of sales they make over `$1000` since the time put into each sale is usually worth a bit more than that, so the higher this metric, the better the salesperson is performing.\n",
    "\n",
    "Recall that Amir's current sales amounts have a mean of `$5000` and a standard deviation of `$2000`, and Amir's predicted amounts in next quarter's market have a mean of `$6000` and a standard deviation of `$2600`.\n",
    "\n",
    "`norm` from `scipy.stats` is imported.\n",
    "\n",
    "Based ***only*** on the metric of percent of sales over `$1000`, does Amir perform better in the current market or the predicted market?"
   ]
  },
  {
   "cell_type": "markdown",
   "id": "3469c914",
   "metadata": {},
   "source": [
    "### 3.5.1 Instructions\n",
    "### Possible Answers\n",
    "\n",
    "- [ ] Amir performs much better in the current market.\n",
    "\n",
    "- [ ] Amir performs much better in next quarter's predicted market.\n",
    "\n",
    "- [x] Amir performs about equally in both markets."
   ]
  },
  {
   "cell_type": "markdown",
   "id": "1e7ad4f3",
   "metadata": {},
   "source": [
    "## 3.6 The central limit theorem"
   ]
  },
  {
   "cell_type": "markdown",
   "id": "a15d245e",
   "metadata": {},
   "source": [
    "## 3.7 Visualizing sampling distributions\n",
    "\n",
    "On the right, try creating *sampling distributions* of different summary statistics from samples of different distributions. Which distribution does the central limit theorem **not** apply to?"
   ]
  },
  {
   "cell_type": "markdown",
   "id": "c4cb47e3",
   "metadata": {},
   "source": [
    "### 3.7.1 Instructions\n",
    "\n",
    "- [ ] Discrete uniform distribution\n",
    "\n",
    "- [ ] Continuous uniform distribution\n",
    "\n",
    "- [ ] Binomial distribution\n",
    "\n",
    "- [ ] All of the above\n",
    "\n",
    "- [x] None of the above"
   ]
  },
  {
   "cell_type": "markdown",
   "id": "c400b8fb",
   "metadata": {},
   "source": [
    "## 3.8 The CLT in action\n",
    "\n",
    "The central limit theorem states that a sampling distribution of a sample statistic approaches the normal distribution as you take more samples, no matter the original distribution being sampled from.\n",
    "\n",
    "In this exercise, you'll focus on the sample mean and see the central limit theorem in action while examining the `num_users` column of `amir_deals` more closely, which contains the number of people who intend to use the product Amir is selling.\n",
    "\n",
    "`pandas` as `pd`, `numpy` as `np`, and `matplotlib.pyplot` as `plt` are loaded and `amir_deals` is available."
   ]
  },
  {
   "cell_type": "markdown",
   "id": "5be25951",
   "metadata": {},
   "source": [
    "### 3.8.1 Instructions 1/4\n",
    "\n",
    "- Create a histogram of the `num_users` column of `amir_deals` and show the plot."
   ]
  },
  {
   "cell_type": "code",
   "execution_count": 47,
   "id": "d8ccb8fb",
   "metadata": {},
   "outputs": [
    {
     "data": {
      "image/png": "[encoded data removed]",
      "text/plain": [
       "<Figure size 640x480 with 1 Axes>"
      ]
     },
     "metadata": {},
     "output_type": "display_data"
    }
   ],
   "source": [
    "# Create a histogram of num_users and show\n",
    "amir_deals['num_users'].hist()\n",
    "plt.show()"
   ]
  },
  {
   "cell_type": "markdown",
   "id": "dfef1c85",
   "metadata": {},
   "source": [
    "### 3.8.2 Instructions 2/4\n",
    "\n",
    "- Set the seed to `104`.\n",
    "- Take a sample of size `20` with replacement from the `num_users` column of `amir_deals`, and take the mean."
   ]
  },
  {
   "cell_type": "code",
   "execution_count": 48,
   "id": "37f11202",
   "metadata": {},
   "outputs": [
    {
     "name": "stdout",
     "output_type": "stream",
     "text": [
      "32.0\n"
     ]
    }
   ],
   "source": [
    "# Set seed to 104\n",
    "np.random.seed(104)\n",
    "\n",
    "# Sample 20 num_users with replacement from amir_deals\n",
    "samp_20 = amir_deals['num_users'].sample(20, replace = True)\n",
    "\n",
    "# Take mean of samp_20\n",
    "print(np.mean(samp_20))"
   ]
  },
  {
   "cell_type": "markdown",
   "id": "51d02de3",
   "metadata": {},
   "source": [
    "### 3.8.3 Instructions 3/4\n",
    "\n",
    "- Repeat this 100 times using a `for` loop and store as `sample_means`. This will take 100 different samples and calculate the mean of each."
   ]
  },
  {
   "cell_type": "code",
   "execution_count": 49,
   "id": "03adf276",
   "metadata": {},
   "outputs": [
    {
     "name": "stdout",
     "output_type": "stream",
     "text": [
      "[31.35, 45.05, 33.55, 38.15, 50.85, 31.85, 34.65, 36.25, 38.9, 44.05, 35.45, 37.6, 37.95, 28.85, 33.3, 31.65, 45.5, 43.2, 24.4, 41.05, 37.2, 39.3, 29.45, 33.55, 45.3, 45.1, 30.95, 36.25, 37.65, 42.55, 34.55, 41.1, 36.9, 42.45, 38.45, 45.9, 42.7, 38.4, 32.55, 30.25, 38.0, 38.75, 49.3, 39.55, 49.05, 42.05, 41.0, 40.6, 58.25, 34.55, 51.2, 34.15, 36.95, 42.45, 41.85, 33.2, 36.15, 37.55, 34.2, 29.75, 42.35, 43.75, 29.0, 32.05, 31.65, 44.6, 30.85, 29.6, 37.7, 33.1, 36.35, 40.65, 45.7, 33.8, 40.1, 39.9, 33.5, 32.65, 32.85, 42.85, 35.4, 31.7, 32.0, 33.85, 36.6, 44.35, 39.9, 37.0, 37.3, 42.5, 38.35, 42.8, 44.55, 30.3, 50.45, 42.35, 40.65, 29.85, 39.3, 33.1]\n"
     ]
    }
   ],
   "source": [
    "# Set seed to 104\n",
    "np.random.seed(104)\n",
    "\n",
    "# Sample 20 num_users with replacement from amir_deals and take mean\n",
    "samp_20 = amir_deals['num_users'].sample(20, replace=True)\n",
    "np.mean(samp_20)\n",
    "\n",
    "sample_means = []\n",
    "# Loop 100 times\n",
    "for i in range(100):\n",
    "  # Take sample of 20 num_users\n",
    "  samp_20 = amir_deals['num_users'].sample(20, replace=True)\n",
    "  # Calculate mean of samp_20\n",
    "  samp_20_mean = np.mean(samp_20)\n",
    "  # Append samp_20_mean to sample_means\n",
    "  sample_means.append(samp_20_mean)\n",
    "  \n",
    "print(sample_means)"
   ]
  },
  {
   "cell_type": "markdown",
   "id": "7d729eb3",
   "metadata": {},
   "source": [
    "### 3.8.4 Instructions 4/4\n",
    "\n",
    "- Convert `sample_means` into a `pd.Series`, create a histogram of the `sample_means`, and show the plot."
   ]
  },
  {
   "cell_type": "code",
   "execution_count": 50,
   "id": "c6f150e0",
   "metadata": {},
   "outputs": [
    {
     "data": {
      "image/png": "[encoded data removed]",
      "text/plain": [
       "<Figure size 640x480 with 1 Axes>"
      ]
     },
     "metadata": {},
     "output_type": "display_data"
    }
   ],
   "source": [
    "# Set seed to 104\n",
    "np.random.seed(104)\n",
    "\n",
    "sample_means = []\n",
    "# Loop 100 times\n",
    "for i in range(100):\n",
    "  # Take sample of 20 num_users\n",
    "  samp_20 = amir_deals['num_users'].sample(20, replace=True)\n",
    "  # Calculate mean of samp_20\n",
    "  samp_20_mean = np.mean(samp_20)\n",
    "  # Append samp_20_mean to sample_means\n",
    "  sample_means.append(samp_20_mean)\n",
    "  \n",
    "# Convert to Series and plot histogram\n",
    "sample_means_series = pd.Series(sample_means)\n",
    "sample_means_series.hist()\n",
    "# Show plot\n",
    "plt.show()"
   ]
  },
  {
   "cell_type": "markdown",
   "id": "3ecdf191",
   "metadata": {},
   "source": [
    "## 3.9 The mean of means\n",
    "\n",
    "You want to know what the average number of users (`num_users`) is per deal, but you want to know this number for the entire company so that you can see if Amir's deals have more or fewer users than the company's average deal. The problem is that over the past year, the company has worked on more than ten thousand deals, so it's not realistic to compile all the data. Instead, you'll estimate the mean by taking several random samples of deals, since this is much easier than collecting data from everyone in the company.\n",
    "\n",
    "`amir_deals` is available and the user data for all the company's deals is available in `all_deals`. Both `pandas` as `pd` and `numpy` as `np` are loaded."
   ]
  },
  {
   "cell_type": "code",
   "execution_count": 51,
   "id": "2605a53e",
   "metadata": {},
   "outputs": [],
   "source": [
    "all_deals = pd.read_csv('datasets/all_deals.csv')"
   ]
  },
  {
   "cell_type": "markdown",
   "id": "a4692184",
   "metadata": {},
   "source": [
    "### 3.9.1 Instructions\n",
    "\n",
    "- Set the random seed to `321`.\n",
    "- Take 30 samples (with replacement) of size 20 from `all_deals['num_users']` and take the mean of each sample. Store the sample means in `sample_means`.\n",
    "- Print the mean of `sample_means`.\n",
    "- Print the mean of the `num_users` column of `amir_deals`."
   ]
  },
  {
   "cell_type": "code",
   "execution_count": 52,
   "id": "12ff745a",
   "metadata": {},
   "outputs": [
    {
     "name": "stdout",
     "output_type": "stream",
     "text": [
      "38.31333333333332\n",
      "37.651685393258425\n"
     ]
    }
   ],
   "source": [
    "# Set seed to 321\n",
    "np.random.seed(321)\n",
    "\n",
    "sample_means = []\n",
    "# Loop 30 times to take 30 means\n",
    "for i in range(30):\n",
    "  # Take sample of size 20 from num_users col of all_deals with replacement\n",
    "  cur_sample = all_deals['num_users'].sample(20, replace = True)\n",
    "  # Take mean of cur_sample\n",
    "  cur_mean = np.mean(cur_sample)\n",
    "  # Append cur_mean to sample_means\n",
    "  sample_means.append(cur_mean)\n",
    "\n",
    "# Print mean of sample_means\n",
    "print(np.mean(sample_means))\n",
    "\n",
    "# Print mean of num_users in amir_deals\n",
    "print(np.mean(amir_deals['num_users']))"
   ]
  },
  {
   "cell_type": "markdown",
   "id": "e5703440",
   "metadata": {},
   "source": [
    "## 3.10 The Poisson distribution"
   ]
  },
  {
   "cell_type": "markdown",
   "id": "73d35c87",
   "metadata": {},
   "source": [
    "## 3.11 Identifying lambda\n",
    "\n",
    "Now that you've learned about the Poisson distribution, you know that its shape is described by a value called lambda. In this exercise, you'll match histograms to lambda values."
   ]
  },
  {
   "cell_type": "markdown",
   "id": "43d67f35",
   "metadata": {},
   "source": [
    "### 3.11.1 Instructions\n",
    "\n",
    "- Match each Poisson distribution to its lambda value."
   ]
  },
  {
   "attachments": {
    "4.PNG": {
     "image/png": "[encoded data removed]"
    }
   },
   "cell_type": "markdown",
   "id": "07eeec7c",
   "metadata": {},
   "source": [
    "### lambda = 1\n",
    "![4.PNG](attachment:4.PNG)"
   ]
  },
  {
   "attachments": {
    "5.PNG": {
     "image/png": "[encoded data removed]"
    }
   },
   "cell_type": "markdown",
   "id": "c76a76a2",
   "metadata": {},
   "source": [
    "### lambda = 4\n",
    "![5.PNG](attachment:5.PNG)"
   ]
  },
  {
   "attachments": {
    "6.PNG": {
     "image/png": "[encoded data removed]"
    }
   },
   "cell_type": "markdown",
   "id": "bd116495",
   "metadata": {},
   "source": [
    "### lambda = 8\n",
    "![6.PNG](attachment:6.PNG)"
   ]
  },
  {
   "cell_type": "markdown",
   "id": "c53cc3dc",
   "metadata": {},
   "source": [
    "## 3.12 Tracking lead responses\n",
    "\n",
    "Your company uses sales software to keep track of new sales leads. It organizes them into a queue so that anyone can follow up on one when they have a bit of free time. Since the number of lead responses is a countable outcome over a period of time, this scenario corresponds to a Poisson distribution. On average, Amir responds to 4 leads each day. In this exercise, you'll calculate probabilities of Amir responding to different numbers of leads."
   ]
  },
  {
   "cell_type": "markdown",
   "id": "bc429eab",
   "metadata": {},
   "source": [
    "### 3.12.1 Instructions 1/4\n",
    "\n",
    "- Import `poisson` from `scipy.stats` and calculate the probability that Amir responds to 5 leads in a day, given that he responds to an average of 4."
   ]
  },
  {
   "cell_type": "code",
   "execution_count": 53,
   "id": "756034cf",
   "metadata": {},
   "outputs": [
    {
     "name": "stdout",
     "output_type": "stream",
     "text": [
      "0.1562934518505317\n"
     ]
    }
   ],
   "source": [
    "# Import poisson from scipy.stats\n",
    "from scipy.stats import poisson\n",
    "\n",
    "# Probability of 5 responses\n",
    "prob_5 = poisson.pmf(5, 4)\n",
    "\n",
    "print(prob_5)"
   ]
  },
  {
   "cell_type": "markdown",
   "id": "9f50dc47",
   "metadata": {},
   "source": [
    "### 3.12.2 Instructions 2/4\n",
    "\n",
    "- Amir's coworker responds to an average of 5.5 leads per day. What is the probability that she answers 5 leads in a day?"
   ]
  },
  {
   "cell_type": "code",
   "execution_count": 54,
   "id": "a510831a",
   "metadata": {},
   "outputs": [
    {
     "name": "stdout",
     "output_type": "stream",
     "text": [
      "0.17140068409793663\n"
     ]
    }
   ],
   "source": [
    "# Import poisson from scipy.stats\n",
    "from scipy.stats import poisson\n",
    "\n",
    "# Probability of 5 responses\n",
    "prob_coworker = poisson.pmf(5, 5.5)\n",
    "\n",
    "print(prob_coworker)"
   ]
  },
  {
   "cell_type": "markdown",
   "id": "3863722a",
   "metadata": {},
   "source": [
    "### 3.12.3 Instructions 3/4\n",
    "\n",
    "- What's the probability that Amir responds to 2 or fewer leads in a day?"
   ]
  },
  {
   "cell_type": "code",
   "execution_count": 55,
   "id": "7d7830e0",
   "metadata": {},
   "outputs": [
    {
     "name": "stdout",
     "output_type": "stream",
     "text": [
      "0.23810330555354436\n"
     ]
    }
   ],
   "source": [
    "# Import poisson from scipy.stats\n",
    "from scipy.stats import poisson\n",
    "\n",
    "# Probability of 2 or fewer responses\n",
    "prob_2_or_less = poisson.cdf(2, 4)\n",
    "\n",
    "print(prob_2_or_less)"
   ]
  },
  {
   "cell_type": "markdown",
   "id": "7fc309f7",
   "metadata": {},
   "source": [
    "### 3.12.4 Instructions 4/4\n",
    "\n",
    "- What's the probability that Amir responds to more than 10 leads in a day?"
   ]
  },
  {
   "cell_type": "code",
   "execution_count": 56,
   "id": "b4dd8bfb",
   "metadata": {},
   "outputs": [
    {
     "name": "stdout",
     "output_type": "stream",
     "text": [
      "0.0028397661205137315\n"
     ]
    }
   ],
   "source": [
    "# Import poisson from scipy.stats\n",
    "from scipy.stats import poisson\n",
    "\n",
    "# Probability of > 10 responses\n",
    "prob_over_10 = 1 - poisson.cdf(10, 4)\n",
    "\n",
    "print(prob_over_10)"
   ]
  },
  {
   "cell_type": "markdown",
   "id": "abb65476",
   "metadata": {},
   "source": [
    "## 3.13 More probability distributions"
   ]
  },
  {
   "cell_type": "markdown",
   "id": "b138acb3",
   "metadata": {},
   "source": [
    "## 3.14 Distribution dragging and dropping\n",
    "\n",
    "By this point, you've learned about so many different probability distributions that it can be difficult to remember which is which. In this exercise, you'll practice distinguishing between distributions and identifying the distribution that best matches different scenarios."
   ]
  },
  {
   "cell_type": "markdown",
   "id": "4f1a1b49",
   "metadata": {},
   "source": [
    "### 3.14.1 Instructions\n",
    "\n",
    "- Match each situation to the distribution that best models it.\n",
    "\n",
    "| Poisson                                          | Exponential                                             | Binomial                                                         |\n",
    "|:------------------------------------------------:|:-------------------------------------------------------:|:----------------------------------------------------------------:|\n",
    "| Number of products sold each week                | Amount of time unitil someone pays off their loan       | Number of people from a group of 30 that pass their driving test |\n",
    "| Number of customers that enter a store each hour | Amount of time until the next customer makes a purchase |                                                                  |"
   ]
  },
  {
   "cell_type": "markdown",
   "id": "edf21503",
   "metadata": {},
   "source": [
    "## 3.15 Modeling time between leads\n",
    "\n",
    "To further evaluate Amir's performance, you want to know how much time it takes him to respond to a lead after he opens it. On average, it takes 2.5 hours for him to respond. In this exercise, you'll calculate probabilities of different amounts of time passing between Amir receiving a lead and sending a response."
   ]
  },
  {
   "cell_type": "markdown",
   "id": "10e29e28",
   "metadata": {},
   "source": [
    "### 3.15.1 Instructions 1/3\n",
    "\n",
    "- Import `expon` from `scipy.stats`. What's the probability it takes Amir less than an hour to respond to a lead?"
   ]
  },
  {
   "cell_type": "code",
   "execution_count": 57,
   "id": "0c009284",
   "metadata": {},
   "outputs": [
    {
     "name": "stdout",
     "output_type": "stream",
     "text": [
      "0.3296799539643607\n"
     ]
    }
   ],
   "source": [
    "# Import expon from scipy.stats\n",
    "from scipy.stats import expon\n",
    "\n",
    "# Print probability response takes < 1 hour\n",
    "print(expon.cdf(1, scale = 2.5))"
   ]
  },
  {
   "cell_type": "markdown",
   "id": "78af174f",
   "metadata": {},
   "source": [
    "### 3.15.2 Instructions 2/3\n",
    "\n",
    "- What's the probability it takes Amir more than 4 hours to respond to a lead?"
   ]
  },
  {
   "cell_type": "code",
   "execution_count": 58,
   "id": "6112f988",
   "metadata": {},
   "outputs": [
    {
     "name": "stdout",
     "output_type": "stream",
     "text": [
      "0.20189651799465536\n"
     ]
    }
   ],
   "source": [
    "# Import expon from scipy.stats\n",
    "from scipy.stats import expon\n",
    "\n",
    "# Print probability response takes > 4 hours\n",
    "print(1 - expon.cdf(4, scale = 2.5))"
   ]
  },
  {
   "cell_type": "markdown",
   "id": "c319c20c",
   "metadata": {},
   "source": [
    "### 3.15.3 Instructions 3/3\n",
    "\n",
    "- What's the probability it takes Amir 3-4 hours to respond to a lead?"
   ]
  },
  {
   "cell_type": "code",
   "execution_count": 59,
   "id": "76c3fff8",
   "metadata": {},
   "outputs": [
    {
     "name": "stdout",
     "output_type": "stream",
     "text": [
      "0.09929769391754684\n"
     ]
    }
   ],
   "source": [
    "# Import expon from scipy.stats\n",
    "from scipy.stats import expon\n",
    "\n",
    "# Print probability response takes 3-4 hours\n",
    "print(expon.cdf(4, scale = 2.5) - expon.cdf(3, scale = 2.5))"
   ]
  },
  {
   "cell_type": "markdown",
   "id": "29ffd299",
   "metadata": {},
   "source": [
    "## 3.16 The t-distribution\n",
    "\n",
    "Which statement is **not** true regarding the t-distribution?"
   ]
  },
  {
   "cell_type": "markdown",
   "id": "1535c932",
   "metadata": {},
   "source": [
    "### 3.16.1 Answer the question\n",
    "### Possible Answers\n",
    "\n",
    "- [ ] The t-distribution has thicker tails than the normal distribution.\n",
    "\n",
    "- [ ] A t-distribution with high degrees of freedom resembles the normal distribution.\n",
    "\n",
    "- [ ] The number of degrees of freedom affects the distribution's variance.\n",
    "\n",
    "- [x] The t-distribution is skewed."
   ]
  },
  {
   "cell_type": "markdown",
   "id": "3bbd2673",
   "metadata": {},
   "source": [
    "# 4 Correlation and Experimental Design\n",
    "\n",
    "In this chapter, you'll learn how to quantify the strength of a linear relationship between two variables, and explore how confounding variables can affect the relationship between two other variables. You'll also see how a study’s design can influence its results, change how the data should be analyzed, and potentially affect the reliability of your conclusions."
   ]
  },
  {
   "cell_type": "markdown",
   "id": "41bc4eab",
   "metadata": {},
   "source": [
    "## 4.1 Correlation"
   ]
  },
  {
   "cell_type": "markdown",
   "id": "20696724",
   "metadata": {},
   "source": [
    "## 4.2 Guess the correlation\n",
    "\n",
    "On the right, use the scatterplot to estimate what the correlation is between the variables `x` and `y`. Once you've guessed it correctly, use the **New Plot** button to try out a few more scatterplots. When you're ready, answer the question below to continue to the next exercise.\n",
    "\n",
    "Which of the following statements is NOT true about correlation?"
   ]
  },
  {
   "cell_type": "markdown",
   "id": "a7313973",
   "metadata": {},
   "source": [
    "### 4.2.1 Instructions\n",
    "\n",
    "- [ ] If the correlation between `x` and `y` has a high magnitude, the data points will be clustered closely around a line.\n",
    "\n",
    "- [ ] Correlation can be written as *r*.\n",
    "\n",
    "- [ ] If `x` and `y` are negatively correlated, values of `y` decrease as values of `x` increase.\n",
    "\n",
    "- [x] Correlation cannot be 0."
   ]
  },
  {
   "cell_type": "markdown",
   "id": "54f05836",
   "metadata": {},
   "source": [
    "## 4.3 Relationships between variables\n",
    "\n",
    "In this chapter, you'll be working with a dataset `world_happiness` containing results from the [2019 World Happiness Report](https://worldhappiness.report/ed/2019/). The report scores various countries based on how happy people in that country are. It also ranks each country on various societal aspects such as social support, freedom, corruption, and others. The dataset also includes the GDP per capita and life expectancy for each country.\n",
    "\n",
    "In this exercise, you'll examine the relationship between a country's life expectancy (`life_exp`) and happiness score (`happiness_score`) both visually and quantitatively. `seaborn` as `sns`, `matplotlib.pyplot` as `plt`, and `pandas` as `pd` are loaded and `world_happiness` is available."
   ]
  },
  {
   "cell_type": "code",
   "execution_count": 60,
   "id": "6dbf753b",
   "metadata": {},
   "outputs": [],
   "source": [
    "import seaborn as sns\n",
    "\n",
    "world_happiness = pd.read_csv('datasets/world_happiness.csv')"
   ]
  },
  {
   "cell_type": "markdown",
   "id": "1cf607a7",
   "metadata": {},
   "source": [
    "### 4.3.1 Instructions 1/4\n",
    "\n",
    "- Create a scatterplot of `happiness_score` vs. `life_exp` (without a trendline) using `seaborn`.\n",
    "- Show the plot."
   ]
  },
  {
   "cell_type": "code",
   "execution_count": 61,
   "id": "5e93be0b",
   "metadata": {},
   "outputs": [
    {
     "data": {
      "image/png": "[encoded data removed]",
      "text/plain": [
       "<Figure size 640x480 with 1 Axes>"
      ]
     },
     "metadata": {},
     "output_type": "display_data"
    }
   ],
   "source": [
    "# Create a scatterplot of happiness_score vs. life_exp and show\n",
    "sns.scatterplot(x = 'life_exp', y = 'happiness_score', data = world_happiness)\n",
    "\n",
    "# Show plot\n",
    "plt.show()"
   ]
  },
  {
   "cell_type": "markdown",
   "id": "3dc4c794",
   "metadata": {},
   "source": [
    "### 4.3.2 Instructions 2/4\n",
    "\n",
    "- Create a scatterplot of `happiness_score` vs. `life_exp` **with a linear trendline** using `seaborn`, setting `ci` to `None`.\n",
    "- Show the plot."
   ]
  },
  {
   "cell_type": "code",
   "execution_count": 62,
   "id": "b8efed1f",
   "metadata": {},
   "outputs": [
    {
     "data": {
      "image/png": "[encoded data removed]",
      "text/plain": [
       "<Figure size 500x500 with 1 Axes>"
      ]
     },
     "metadata": {},
     "output_type": "display_data"
    }
   ],
   "source": [
    "# Create scatterplot of happiness_score vs life_exp with trendline\n",
    "sns.lmplot(x = 'life_exp', y = 'happiness_score', data = world_happiness, ci = None)\n",
    "\n",
    "# Show plot\n",
    "plt.show()"
   ]
  },
  {
   "cell_type": "markdown",
   "id": "8da7a23c",
   "metadata": {},
   "source": [
    "### 4.3.3 Instructions 3/4\n",
    "### Question\n",
    "Based on the scatterplot, which is most likely the correlation between `life_exp` and `happiness_score`?\n",
    "### Possible Answers\n",
    "\n",
    "- [ ] 0.3\n",
    "\n",
    "- [ ] -0.3\n",
    "\n",
    "- [x] 0.8\n",
    "\n",
    "- [ ] -0.8"
   ]
  },
  {
   "cell_type": "markdown",
   "id": "6395f599",
   "metadata": {},
   "source": [
    "### 4.3.4 Instructions 4/4\n",
    "\n",
    "- Calculate the correlation between `life_exp` and `happiness_score`. Save this as `cor`."
   ]
  },
  {
   "cell_type": "code",
   "execution_count": 63,
   "id": "f43c39cb",
   "metadata": {},
   "outputs": [
    {
     "data": {
      "image/png": "[encoded data removed]",
      "text/plain": [
       "<Figure size 500x500 with 1 Axes>"
      ]
     },
     "metadata": {},
     "output_type": "display_data"
    },
    {
     "name": "stdout",
     "output_type": "stream",
     "text": [
      "0.7802249053272062\n"
     ]
    }
   ],
   "source": [
    "# Create scatterplot of happiness_score vs life_exp with trendline\n",
    "sns.lmplot(x='life_exp', y='happiness_score', data=world_happiness, ci=None)\n",
    "\n",
    "# Show plot\n",
    "plt.show()\n",
    "\n",
    "# Correlation between life_exp and happiness_score\n",
    "cor = world_happiness['life_exp'].corr(world_happiness['happiness_score'])\n",
    "\n",
    "print(cor)"
   ]
  },
  {
   "cell_type": "markdown",
   "id": "67b74679",
   "metadata": {},
   "source": [
    "## 4.4 Correlation caveats"
   ]
  },
  {
   "cell_type": "markdown",
   "id": "08c85773",
   "metadata": {},
   "source": [
    "## 4.5 What can't correlation measure?\n",
    "\n",
    "While the correlation coefficient is a convenient way to quantify the strength of a relationship between two variables, it's far from perfect. In this exercise, you'll explore one of the caveats of the correlation coefficient by examining the relationship between a country's GDP per capita (`gdp_per_cap`) and happiness score.\n",
    "\n",
    "`pandas` as `pd`, `matplotlib.pyplot` as `plt`, and `seaborn` as `sns` are imported, and `world_happiness` is loaded."
   ]
  },
  {
   "cell_type": "markdown",
   "id": "d6cc2f2d",
   "metadata": {},
   "source": [
    "### 4.5.1 Instructions 1/3\n",
    "\n",
    "- Create a `seaborn` scatterplot (without a trendline) showing the relationship between `gdp_per_cap` (on the x-axis) and `life_exp` (on the y-axis).\n",
    "- Show the plot"
   ]
  },
  {
   "cell_type": "code",
   "execution_count": 64,
   "id": "ade0ea5d",
   "metadata": {},
   "outputs": [
    {
     "data": {
      "image/png": "[encoded data removed]",
      "text/plain": [
       "<Figure size 640x480 with 1 Axes>"
      ]
     },
     "metadata": {},
     "output_type": "display_data"
    }
   ],
   "source": [
    "# Scatterplot of gdp_per_cap and life_exp\n",
    "sns.scatterplot(x = 'gdp_per_cap', y = 'life_exp', data = world_happiness)\n",
    "\n",
    "# Show plot\n",
    "plt.show()"
   ]
  },
  {
   "cell_type": "markdown",
   "id": "d3539f82",
   "metadata": {},
   "source": [
    "### 4.5.2 Instructions 2/3\n",
    "\n",
    "- Calculate the correlation between `gdp_per_cap` and `life_exp` and store as `cor`."
   ]
  },
  {
   "cell_type": "code",
   "execution_count": 65,
   "id": "e80b5dfb",
   "metadata": {},
   "outputs": [
    {
     "data": {
      "image/png": "[encoded data removed]",
      "text/plain": [
       "<Figure size 640x480 with 1 Axes>"
      ]
     },
     "metadata": {},
     "output_type": "display_data"
    },
    {
     "name": "stdout",
     "output_type": "stream",
     "text": [
      "0.7019547642148012\n"
     ]
    }
   ],
   "source": [
    "# Scatterplot of gdp_per_cap and life_exp\n",
    "sns.scatterplot(x='gdp_per_cap', y='life_exp', data=world_happiness)\n",
    "\n",
    "# Show plot\n",
    "plt.show()\n",
    "  \n",
    "# Correlation between gdp_per_cap and life_exp\n",
    "cor = world_happiness['gdp_per_cap'].corr(world_happiness['life_exp'])\n",
    "\n",
    "print(cor)"
   ]
  },
  {
   "cell_type": "markdown",
   "id": "25ed47bc",
   "metadata": {},
   "source": [
    "### 4.5.3 Instructions 3/3\n",
    "### Question\n",
    "The correlation between GDP per capita and life expectancy is 0.7. Why is correlation ***not*** the best way to measure the relationship between these two variables?\n",
    "\n",
    "### Possible Answers\n",
    "\n",
    "- [ ] Correlation measures how one variable affects another\n",
    "\n",
    "- [x] Correlation only measures linear relationships.\n",
    "\n",
    "- [ ] Correlation cannot properly measure relationships between numeric variables."
   ]
  },
  {
   "cell_type": "markdown",
   "id": "ceb32540",
   "metadata": {},
   "source": [
    "## 4.6 Transforming variables\n",
    "\n",
    "When variables have skewed distributions, they often require a transformation in order to form a linear relationship with another variable so that correlation can be computed. In this exercise, you'll perform a transformation yourself.\n",
    "\n",
    "`pandas` as `pd`, `numpy` as `np`, `matplotlib.pyplot` as `plt`, and `seaborn` as `sns` are imported, and `world_happiness` is loaded."
   ]
  },
  {
   "cell_type": "markdown",
   "id": "52e193f1",
   "metadata": {},
   "source": [
    "### 4.6.1 Instructions 1/2\n",
    "\n",
    "- Create a scatterplot of `happiness_score` versus `gdp_per_cap` and calculate the correlation between them."
   ]
  },
  {
   "cell_type": "code",
   "execution_count": 66,
   "id": "71477ce7",
   "metadata": {},
   "outputs": [
    {
     "data": {
      "image/png": "[encoded data removed]",
      "text/plain": [
       "<Figure size 640x480 with 1 Axes>"
      ]
     },
     "metadata": {},
     "output_type": "display_data"
    },
    {
     "name": "stdout",
     "output_type": "stream",
     "text": [
      "0.727973301222298\n"
     ]
    }
   ],
   "source": [
    "# Scatterplot of happiness_score vs. gdp_per_cap\n",
    "sns.scatterplot(x = 'gdp_per_cap', y = 'happiness_score', data = world_happiness)\n",
    "plt.show()\n",
    "\n",
    "# Calculate correlation\n",
    "cor = world_happiness['gdp_per_cap'].corr(world_happiness['happiness_score'])\n",
    "print(cor)"
   ]
  },
  {
   "cell_type": "markdown",
   "id": "147143e3",
   "metadata": {},
   "source": [
    "### 4.6.2 Instructions 2/2\n",
    "\n",
    "- Add a new column to `world_happiness` called `log_gdp_per_cap` that contains the log of `gdp_per_cap`.\n",
    "- Create a `seaborn` scatterplot of `log_gdp_per_cap` and `happiness_score` and calculate the correlation between them."
   ]
  },
  {
   "cell_type": "code",
   "execution_count": 67,
   "id": "aa51a41c",
   "metadata": {},
   "outputs": [
    {
     "data": {
      "image/png": "[encoded data removed]",
      "text/plain": [
       "<Figure size 640x480 with 1 Axes>"
      ]
     },
     "metadata": {},
     "output_type": "display_data"
    },
    {
     "name": "stdout",
     "output_type": "stream",
     "text": [
      "0.8043146004918288\n"
     ]
    }
   ],
   "source": [
    "# Create log_gdp_per_cap column\n",
    "world_happiness['log_gdp_per_cap'] = np.log(world_happiness['gdp_per_cap'])\n",
    "\n",
    "# Scatterplot of log_gdp_per_cap and happiness_score\n",
    "sns.scatterplot(x = 'log_gdp_per_cap', y = 'happiness_score', data = world_happiness)\n",
    "plt.show()\n",
    "\n",
    "# Calculate correlation\n",
    "cor = world_happiness['log_gdp_per_cap'].corr(world_happiness['happiness_score'])\n",
    "print(cor)"
   ]
  },
  {
   "cell_type": "markdown",
   "id": "d8d24c42",
   "metadata": {},
   "source": [
    "## 4.7 Does sugar improve happiness?\n",
    "\n",
    "A new column has been added to `world_happiness` called `grams_sugar_per_day`, which contains the average amount of sugar eaten per person per day in each country. In this exercise, you'll examine the effect of a country's average sugar consumption on its happiness score.\n",
    "\n",
    "`pandas` as `pd`, `matplotlib.pyplot` as `plt`, and `seaborn` as `sns` are imported, and `world_happiness` is loaded."
   ]
  },
  {
   "cell_type": "code",
   "execution_count": 68,
   "id": "6baae956",
   "metadata": {},
   "outputs": [],
   "source": [
    "world_happiness_2 = pd.read_csv('datasets/world_happiness_2.csv')"
   ]
  },
  {
   "cell_type": "markdown",
   "id": "ccfc188c",
   "metadata": {},
   "source": [
    "### 4.7.1 Instructions 1/2\n",
    "\n",
    "- Create a `seaborn` scatterplot showing the relationship between `grams_sugar_per_day` (on the x-axis) and `happiness_score` (on the y-axis).\n",
    "- Calculate the correlation between `grams_sugar_per_day` and `happiness_score`."
   ]
  },
  {
   "cell_type": "code",
   "execution_count": 69,
   "id": "3667f9c5",
   "metadata": {},
   "outputs": [
    {
     "data": {
      "image/png": "[encoded data removed]",
      "text/plain": [
       "<Figure size 640x480 with 1 Axes>"
      ]
     },
     "metadata": {},
     "output_type": "display_data"
    },
    {
     "name": "stdout",
     "output_type": "stream",
     "text": [
      "0.6939100021829633\n"
     ]
    }
   ],
   "source": [
    "# Scatterplot of grams_sugar_per_day and happiness_score\n",
    "sns.scatterplot(x= 'grams_sugar_per_day', y = 'happiness_score', data = world_happiness_2)\n",
    "plt.show()\n",
    "\n",
    "# Correlation between grams_sugar_per_day and happiness_score\n",
    "cor = world_happiness_2['grams_sugar_per_day'].corr(world_happiness_2['happiness_score'])\n",
    "print(cor)"
   ]
  },
  {
   "cell_type": "markdown",
   "id": "b23f4c30",
   "metadata": {},
   "source": [
    "### 4.7.2 Instructions 2/2\n",
    "### Question\n",
    "Based on this data, which statement about sugar consumption and happiness scores is true?\n",
    "\n",
    "### Possible Answers\n",
    "\n",
    "- [ ] Increased sugar consumption leads to a higher happiness score.\n",
    "\n",
    "- [ ] Lower sugar consumption results in a lower happiness score.\n",
    "\n",
    "- [x] Increased sugar consumption is associated with a higher happiness score.\n",
    "\n",
    "- [ ] Sugar consumption is not related to happiness."
   ]
  },
  {
   "cell_type": "markdown",
   "id": "003b21ee",
   "metadata": {},
   "source": [
    "## 4.8 Confounders\n",
    "\n",
    "A study is investigating the relationship between neighborhood residence and lung capacity. Researchers measure the lung capacity of thirty people from neighborhood A, which is located near a highway, and thirty people from neighborhood B, which is not near a highway. Both groups have similar smoking habits and a similar gender breakdown.\n",
    "\n",
    "Which of the following could be a *confounder* in this study?\n",
    "### Answer the question\n",
    "### Possible Answers\n",
    "\n",
    "- [ ] Lung capacity\n",
    "\n",
    "- [ ] Neighborhood\n",
    "\n",
    "- [x] Air pollution\n",
    "\n",
    "- [ ] Smoking status\n",
    "\n",
    "- [ ] Gender"
   ]
  },
  {
   "cell_type": "markdown",
   "id": "5ef2addb",
   "metadata": {},
   "source": [
    "## 4.9 Design of experiments"
   ]
  },
  {
   "cell_type": "markdown",
   "id": "a0b3e13a",
   "metadata": {},
   "source": [
    "## 4.10 Study types\n",
    "\n",
    "While controlled experiments are ideal, many situations and research questions are not conducive to a controlled experiment. In a controlled experiment, causation can likely be inferred if the control and test groups have similar characteristics and don't have any systematic difference between them. On the other hand, causation cannot usually be inferred from observational studies, whose results are often misinterpreted as a result.\n",
    "\n",
    "In this exercise, you'll practice distinguishing controlled experiments from observational studies."
   ]
  },
  {
   "cell_type": "markdown",
   "id": "ef44fd8e",
   "metadata": {},
   "source": [
    "### 4.10.1 Instructions\n",
    "\n",
    "- Determine if each study is a controlled experiment or observational study.\n",
    "\n",
    "| Controlled experiment                                                                                                                               | Observational study                                                                                                                                  |\n",
    "|:---------------------------------------------------------------------------------------------------------------------------------------------------:|:----------------------------------------------------------------------------------------------------------------------------------------------------:|\n",
    "| Subjucts are randomly assigned to a diet and weight loss is compared.                                                                               | A week ago, the home page of an e-commerce site was updated. purchasing rates are compared between users who saw the old and new home page versions. |\n",
    "| Asthma symptoms are compared between children randomly assigned to receive professional home pest management services or pest management education. | Prevalence of heart disease is compared between veterans with PTSD and veterans without PTSD.                                                        |\n",
    "| purchasing rates are compared between users of an e-commerce site who are randomly directed to a new version of the home page or an old version.    |                                                                                                                                                      |"
   ]
  },
  {
   "cell_type": "markdown",
   "id": "5d8b886c",
   "metadata": {},
   "source": [
    "## 4.11 Longitudinal vs. cross-sectional studies\n",
    "\n",
    "A company manufactures thermometers, and they want to study the relationship between a thermometer's age and its accuracy. To do this, they take a sample of 100 different thermometers of different ages and test how accurate they are. Is this data longitudinal or cross-sectional?\n",
    "\n",
    "### Answer the question\n",
    "### Possible Answers\n",
    "\n",
    "- [ ] Longitudinal\n",
    "\n",
    "- [x] Cross-sectional\n",
    "\n",
    "- [ ] Both\n",
    "\n",
    "- [ ] Neither"
   ]
  },
  {
   "cell_type": "markdown",
   "id": "56e9e0a1",
   "metadata": {},
   "source": [
    "## 4.12 Congratulations!"
   ]
  }
 ],
 "metadata": {
  "kernelspec": {
   "display_name": "Python 3 (ipykernel)",
   "language": "python",
   "name": "python3"
  },
  "language_info": {
   "codemirror_mode": {
    "name": "ipython",
    "version": 3
   },
   "file_extension": ".py",
   "mimetype": "text/x-python",
   "name": "python",
   "nbconvert_exporter": "python",
   "pygments_lexer": "ipython3",
   "version": "3.9.15"
  }
 },
 "nbformat": 4,
 "nbformat_minor": 5
}
